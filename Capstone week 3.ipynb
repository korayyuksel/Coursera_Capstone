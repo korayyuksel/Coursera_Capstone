{
 "cells": [
  {
   "cell_type": "markdown",
   "metadata": {},
   "source": [
    "**Import Libraries**"
   ]
  },
  {
   "cell_type": "code",
   "execution_count": 2,
   "metadata": {},
   "outputs": [
    {
     "name": "stdout",
     "output_type": "stream",
     "text": [
      "Requirement already satisfied: folium in c:\\users\\ky55884\\appdata\\local\\continuum\\anaconda3\\lib\\site-packages (0.10.1)\n",
      "Requirement already satisfied: branca>=0.3.0 in c:\\users\\ky55884\\appdata\\local\\continuum\\anaconda3\\lib\\site-packages (from folium) (0.3.1)\n",
      "Requirement already satisfied: requests in c:\\users\\ky55884\\appdata\\local\\continuum\\anaconda3\\lib\\site-packages (from folium) (2.21.0)\n",
      "Requirement already satisfied: jinja2>=2.9 in c:\\users\\ky55884\\appdata\\local\\continuum\\anaconda3\\lib\\site-packages (from folium) (2.10)\n",
      "Requirement already satisfied: numpy in c:\\users\\ky55884\\appdata\\local\\continuum\\anaconda3\\lib\\site-packages (from folium) (1.17.2)\n",
      "Requirement already satisfied: six in c:\\users\\ky55884\\appdata\\local\\continuum\\anaconda3\\lib\\site-packages (from branca>=0.3.0->folium) (1.12.0)\n",
      "Requirement already satisfied: urllib3<1.25,>=1.21.1 in c:\\users\\ky55884\\appdata\\local\\continuum\\anaconda3\\lib\\site-packages (from requests->folium) (1.24.1)\n",
      "Requirement already satisfied: chardet<3.1.0,>=3.0.2 in c:\\users\\ky55884\\appdata\\local\\continuum\\anaconda3\\lib\\site-packages (from requests->folium) (3.0.4)\n",
      "Requirement already satisfied: idna<2.9,>=2.5 in c:\\users\\ky55884\\appdata\\local\\continuum\\anaconda3\\lib\\site-packages (from requests->folium) (2.8)\n",
      "Requirement already satisfied: certifi>=2017.4.17 in c:\\users\\ky55884\\appdata\\local\\continuum\\anaconda3\\lib\\site-packages (from requests->folium) (2018.11.29)\n",
      "Requirement already satisfied: MarkupSafe>=0.23 in c:\\users\\ky55884\\appdata\\local\\continuum\\anaconda3\\lib\\site-packages (from jinja2>=2.9->folium) (1.1.0)\n",
      "Requirement already satisfied: geocoder in c:\\users\\ky55884\\appdata\\local\\continuum\\anaconda3\\lib\\site-packages (1.38.1)\n",
      "Requirement already satisfied: click in c:\\users\\ky55884\\appdata\\local\\continuum\\anaconda3\\lib\\site-packages (from geocoder) (7.0)\n",
      "Requirement already satisfied: requests in c:\\users\\ky55884\\appdata\\local\\continuum\\anaconda3\\lib\\site-packages (from geocoder) (2.21.0)\n",
      "Requirement already satisfied: ratelim in c:\\users\\ky55884\\appdata\\local\\continuum\\anaconda3\\lib\\site-packages (from geocoder) (0.1.6)\n",
      "Requirement already satisfied: six in c:\\users\\ky55884\\appdata\\local\\continuum\\anaconda3\\lib\\site-packages (from geocoder) (1.12.0)\n",
      "Requirement already satisfied: future in c:\\users\\ky55884\\appdata\\local\\continuum\\anaconda3\\lib\\site-packages (from geocoder) (0.17.1)\n",
      "Requirement already satisfied: chardet<3.1.0,>=3.0.2 in c:\\users\\ky55884\\appdata\\local\\continuum\\anaconda3\\lib\\site-packages (from requests->geocoder) (3.0.4)\n",
      "Requirement already satisfied: idna<2.9,>=2.5 in c:\\users\\ky55884\\appdata\\local\\continuum\\anaconda3\\lib\\site-packages (from requests->geocoder) (2.8)\n",
      "Requirement already satisfied: urllib3<1.25,>=1.21.1 in c:\\users\\ky55884\\appdata\\local\\continuum\\anaconda3\\lib\\site-packages (from requests->geocoder) (1.24.1)\n",
      "Requirement already satisfied: certifi>=2017.4.17 in c:\\users\\ky55884\\appdata\\local\\continuum\\anaconda3\\lib\\site-packages (from requests->geocoder) (2018.11.29)\n",
      "Requirement already satisfied: decorator in c:\\users\\ky55884\\appdata\\local\\continuum\\anaconda3\\lib\\site-packages (from ratelim->geocoder) (4.3.0)\n",
      "Requirement already satisfied: geopy in c:\\users\\ky55884\\appdata\\local\\continuum\\anaconda3\\lib\\site-packages (1.21.0)\n",
      "Requirement already satisfied: geographiclib<2,>=1.49 in c:\\users\\ky55884\\appdata\\local\\continuum\\anaconda3\\lib\\site-packages (from geopy) (1.50)\n"
     ]
    }
   ],
   "source": [
    "import numpy as np\n",
    "import pandas as pd\n",
    "import requests\n",
    "from bs4 import BeautifulSoup\n",
    "\n",
    "import requests\n",
    "from pandas.io.json import json_normalize\n",
    "import matplotlib.cm as cm\n",
    "import matplotlib.colors as colors\n",
    "\n",
    "from sklearn.cluster import KMeans\n",
    "\n",
    "#!pip install folium\n",
    "import folium\n",
    "\n",
    "#!pip install geocoder \n",
    "import geocoder\n",
    "\n",
    "#!pip install geopy\n",
    "from geopy.geocoders import Nominatim\n",
    "\n",
    "\n"
   ]
  },
  {
   "cell_type": "markdown",
   "metadata": {},
   "source": [
    "**Get Request and Preporecessing**"
   ]
  },
  {
   "cell_type": "code",
   "execution_count": 15,
   "metadata": {},
   "outputs": [],
   "source": [
    "res = requests.get(\"https://en.wikipedia.org/wiki/List_of_postal_codes_of_Canada:_M\")\n",
    "soup = BeautifulSoup(res.content,'html')\n",
    "table = soup.find_all('table')[0] \n",
    "df_ = pd.read_html(str(table))\n",
    "df = df_[0]\n",
    "df.columns = df.iloc[0]\n",
    "df.drop([0,1,2], inplace = True)\n",
    "\n",
    "df.rename({\"Postcode\": \"PostalCode\"}, axis=1, inplace=True)\n",
    "df = df[df[\"Borough\"] != \"Not assigned\"]\n",
    "df[df[\"Neighbourhood\"] == \"Not assigned\"]\n",
    "df[df[\"Borough\"] == \"Queen's Park\"]\n",
    "df_agg = df.groupby([\"PostalCode\", \"Borough\"]).agg({'Neighbourhood': lambda x: ', '.join(x)}).reset_index()\n",
    "df[df[\"PostalCode\"] == \"M5B\"]\n",
    "df_agg[df_agg[\"PostalCode\"] == \"M5B\"]\n",
    "df_geo = pd.read_csv(\"http://cocl.us/Geospatial_data\")\n",
    "df_geo.rename({\"Postal Code\": \"PostalCode\"}, axis=1, inplace=True)\n",
    "df_agg_geo = pd.merge(df_agg,df_geo,on=\"PostalCode\",how=\"left\")"
   ]
  },
  {
   "cell_type": "code",
   "execution_count": 16,
   "metadata": {},
   "outputs": [
    {
     "data": {
      "text/html": [
       "<div>\n",
       "<style scoped>\n",
       "    .dataframe tbody tr th:only-of-type {\n",
       "        vertical-align: middle;\n",
       "    }\n",
       "\n",
       "    .dataframe tbody tr th {\n",
       "        vertical-align: top;\n",
       "    }\n",
       "\n",
       "    .dataframe thead th {\n",
       "        text-align: right;\n",
       "    }\n",
       "</style>\n",
       "<table border=\"1\" class=\"dataframe\">\n",
       "  <thead>\n",
       "    <tr style=\"text-align: right;\">\n",
       "      <th></th>\n",
       "      <th>PostalCode</th>\n",
       "      <th>Borough</th>\n",
       "      <th>Neighbourhood</th>\n",
       "    </tr>\n",
       "  </thead>\n",
       "  <tbody>\n",
       "    <tr>\n",
       "      <th>3</th>\n",
       "      <td>M3A</td>\n",
       "      <td>North York</td>\n",
       "      <td>Parkwoods</td>\n",
       "    </tr>\n",
       "    <tr>\n",
       "      <th>4</th>\n",
       "      <td>M4A</td>\n",
       "      <td>North York</td>\n",
       "      <td>Victoria Village</td>\n",
       "    </tr>\n",
       "    <tr>\n",
       "      <th>5</th>\n",
       "      <td>M5A</td>\n",
       "      <td>Downtown Toronto</td>\n",
       "      <td>Harbourfront</td>\n",
       "    </tr>\n",
       "    <tr>\n",
       "      <th>6</th>\n",
       "      <td>M6A</td>\n",
       "      <td>North York</td>\n",
       "      <td>Lawrence Heights</td>\n",
       "    </tr>\n",
       "    <tr>\n",
       "      <th>7</th>\n",
       "      <td>M6A</td>\n",
       "      <td>North York</td>\n",
       "      <td>Lawrence Manor</td>\n",
       "    </tr>\n",
       "  </tbody>\n",
       "</table>\n",
       "</div>"
      ],
      "text/plain": [
       "0 PostalCode           Borough     Neighbourhood\n",
       "3        M3A        North York         Parkwoods\n",
       "4        M4A        North York  Victoria Village\n",
       "5        M5A  Downtown Toronto      Harbourfront\n",
       "6        M6A        North York  Lawrence Heights\n",
       "7        M6A        North York    Lawrence Manor"
      ]
     },
     "execution_count": 16,
     "metadata": {},
     "output_type": "execute_result"
    }
   ],
   "source": [
    "df.head()"
   ]
  },
  {
   "cell_type": "code",
   "execution_count": 17,
   "metadata": {},
   "outputs": [
    {
     "data": {
      "text/html": [
       "<div>\n",
       "<style scoped>\n",
       "    .dataframe tbody tr th:only-of-type {\n",
       "        vertical-align: middle;\n",
       "    }\n",
       "\n",
       "    .dataframe tbody tr th {\n",
       "        vertical-align: top;\n",
       "    }\n",
       "\n",
       "    .dataframe thead th {\n",
       "        text-align: right;\n",
       "    }\n",
       "</style>\n",
       "<table border=\"1\" class=\"dataframe\">\n",
       "  <thead>\n",
       "    <tr style=\"text-align: right;\">\n",
       "      <th></th>\n",
       "      <th>PostalCode</th>\n",
       "      <th>Borough</th>\n",
       "      <th>Neighbourhood</th>\n",
       "      <th>Latitude</th>\n",
       "      <th>Longitude</th>\n",
       "    </tr>\n",
       "  </thead>\n",
       "  <tbody>\n",
       "    <tr>\n",
       "      <th>0</th>\n",
       "      <td>M1B</td>\n",
       "      <td>Scarborough</td>\n",
       "      <td>Rouge, Malvern</td>\n",
       "      <td>43.806686</td>\n",
       "      <td>-79.194353</td>\n",
       "    </tr>\n",
       "    <tr>\n",
       "      <th>1</th>\n",
       "      <td>M1C</td>\n",
       "      <td>Scarborough</td>\n",
       "      <td>Highland Creek, Rouge Hill, Port Union</td>\n",
       "      <td>43.784535</td>\n",
       "      <td>-79.160497</td>\n",
       "    </tr>\n",
       "    <tr>\n",
       "      <th>2</th>\n",
       "      <td>M1E</td>\n",
       "      <td>Scarborough</td>\n",
       "      <td>Guildwood, Morningside, West Hill</td>\n",
       "      <td>43.763573</td>\n",
       "      <td>-79.188711</td>\n",
       "    </tr>\n",
       "    <tr>\n",
       "      <th>3</th>\n",
       "      <td>M1G</td>\n",
       "      <td>Scarborough</td>\n",
       "      <td>Woburn</td>\n",
       "      <td>43.770992</td>\n",
       "      <td>-79.216917</td>\n",
       "    </tr>\n",
       "    <tr>\n",
       "      <th>4</th>\n",
       "      <td>M1H</td>\n",
       "      <td>Scarborough</td>\n",
       "      <td>Cedarbrae</td>\n",
       "      <td>43.773136</td>\n",
       "      <td>-79.239476</td>\n",
       "    </tr>\n",
       "  </tbody>\n",
       "</table>\n",
       "</div>"
      ],
      "text/plain": [
       "  PostalCode      Borough                           Neighbourhood   Latitude  \\\n",
       "0        M1B  Scarborough                          Rouge, Malvern  43.806686   \n",
       "1        M1C  Scarborough  Highland Creek, Rouge Hill, Port Union  43.784535   \n",
       "2        M1E  Scarborough       Guildwood, Morningside, West Hill  43.763573   \n",
       "3        M1G  Scarborough                                  Woburn  43.770992   \n",
       "4        M1H  Scarborough                               Cedarbrae  43.773136   \n",
       "\n",
       "   Longitude  \n",
       "0 -79.194353  \n",
       "1 -79.160497  \n",
       "2 -79.188711  \n",
       "3 -79.216917  \n",
       "4 -79.239476  "
      ]
     },
     "execution_count": 17,
     "metadata": {},
     "output_type": "execute_result"
    }
   ],
   "source": [
    "df_agg_geo.head()"
   ]
  },
  {
   "cell_type": "markdown",
   "metadata": {},
   "source": [
    "**Toronto, Canada Coordinates**"
   ]
  },
  {
   "cell_type": "code",
   "execution_count": 19,
   "metadata": {},
   "outputs": [
    {
     "name": "stderr",
     "output_type": "stream",
     "text": [
      "C:\\Users\\ky55884\\AppData\\Local\\Continuum\\anaconda3\\lib\\site-packages\\ipykernel_launcher.py:2: DeprecationWarning: Using Nominatim with the default \"geopy/1.21.0\" `user_agent` is strongly discouraged, as it violates Nominatim's ToS https://operations.osmfoundation.org/policies/nominatim/ and may possibly cause 403 and 429 HTTP errors. Please specify a custom `user_agent` with `Nominatim(user_agent=\"my-application\")` or by overriding the default `user_agent`: `geopy.geocoders.options.default_user_agent = \"my-application\"`. In geopy 2.0 this will become an exception.\n",
      "  \n"
     ]
    },
    {
     "name": "stdout",
     "output_type": "stream",
     "text": [
      "The geograpical coordinate of the City of Toronto are 43.653963, -79.387207.\n"
     ]
    }
   ],
   "source": [
    "address = 'Toronto, Canada'\n",
    "geolocator = Nominatim()\n",
    "location = geolocator.geocode(address)\n",
    "latitude = location.latitude\n",
    "longitude = location.longitude\n",
    "print('The geograpical coordinate of the City of Toronto are {}, {}.'.format(latitude, longitude))"
   ]
  },
  {
   "cell_type": "code",
   "execution_count": 20,
   "metadata": {},
   "outputs": [],
   "source": [
    "df_toronto = df_agg_geo[df_agg_geo['Borough'].str.contains('Toronto')].reset_index(drop=True)"
   ]
  },
  {
   "cell_type": "markdown",
   "metadata": {},
   "source": [
    "**Clustering and Folium**"
   ]
  },
  {
   "cell_type": "code",
   "execution_count": 21,
   "metadata": {},
   "outputs": [
    {
     "data": {
      "text/html": [
       "<div style=\"width:100%;\"><div style=\"position:relative;width:100%;height:0;padding-bottom:60%;\"><iframe src=\"data:text/html;charset=utf-8;base64,PCFET0NUWVBFIGh0bWw+CjxoZWFkPiAgICAKICAgIDxtZXRhIGh0dHAtZXF1aXY9ImNvbnRlbnQtdHlwZSIgY29udGVudD0idGV4dC9odG1sOyBjaGFyc2V0PVVURi04IiAvPgogICAgCiAgICAgICAgPHNjcmlwdD4KICAgICAgICAgICAgTF9OT19UT1VDSCA9IGZhbHNlOwogICAgICAgICAgICBMX0RJU0FCTEVfM0QgPSBmYWxzZTsKICAgICAgICA8L3NjcmlwdD4KICAgIAogICAgPHNjcmlwdCBzcmM9Imh0dHBzOi8vY2RuLmpzZGVsaXZyLm5ldC9ucG0vbGVhZmxldEAxLjUuMS9kaXN0L2xlYWZsZXQuanMiPjwvc2NyaXB0PgogICAgPHNjcmlwdCBzcmM9Imh0dHBzOi8vY29kZS5qcXVlcnkuY29tL2pxdWVyeS0xLjEyLjQubWluLmpzIj48L3NjcmlwdD4KICAgIDxzY3JpcHQgc3JjPSJodHRwczovL21heGNkbi5ib290c3RyYXBjZG4uY29tL2Jvb3RzdHJhcC8zLjIuMC9qcy9ib290c3RyYXAubWluLmpzIj48L3NjcmlwdD4KICAgIDxzY3JpcHQgc3JjPSJodHRwczovL2NkbmpzLmNsb3VkZmxhcmUuY29tL2FqYXgvbGlicy9MZWFmbGV0LmF3ZXNvbWUtbWFya2Vycy8yLjAuMi9sZWFmbGV0LmF3ZXNvbWUtbWFya2Vycy5qcyI+PC9zY3JpcHQ+CiAgICA8bGluayByZWw9InN0eWxlc2hlZXQiIGhyZWY9Imh0dHBzOi8vY2RuLmpzZGVsaXZyLm5ldC9ucG0vbGVhZmxldEAxLjUuMS9kaXN0L2xlYWZsZXQuY3NzIi8+CiAgICA8bGluayByZWw9InN0eWxlc2hlZXQiIGhyZWY9Imh0dHBzOi8vbWF4Y2RuLmJvb3RzdHJhcGNkbi5jb20vYm9vdHN0cmFwLzMuMi4wL2Nzcy9ib290c3RyYXAubWluLmNzcyIvPgogICAgPGxpbmsgcmVsPSJzdHlsZXNoZWV0IiBocmVmPSJodHRwczovL21heGNkbi5ib290c3RyYXBjZG4uY29tL2Jvb3RzdHJhcC8zLjIuMC9jc3MvYm9vdHN0cmFwLXRoZW1lLm1pbi5jc3MiLz4KICAgIDxsaW5rIHJlbD0ic3R5bGVzaGVldCIgaHJlZj0iaHR0cHM6Ly9tYXhjZG4uYm9vdHN0cmFwY2RuLmNvbS9mb250LWF3ZXNvbWUvNC42LjMvY3NzL2ZvbnQtYXdlc29tZS5taW4uY3NzIi8+CiAgICA8bGluayByZWw9InN0eWxlc2hlZXQiIGhyZWY9Imh0dHBzOi8vY2RuanMuY2xvdWRmbGFyZS5jb20vYWpheC9saWJzL0xlYWZsZXQuYXdlc29tZS1tYXJrZXJzLzIuMC4yL2xlYWZsZXQuYXdlc29tZS1tYXJrZXJzLmNzcyIvPgogICAgPGxpbmsgcmVsPSJzdHlsZXNoZWV0IiBocmVmPSJodHRwczovL3Jhd2Nkbi5naXRoYWNrLmNvbS9weXRob24tdmlzdWFsaXphdGlvbi9mb2xpdW0vbWFzdGVyL2ZvbGl1bS90ZW1wbGF0ZXMvbGVhZmxldC5hd2Vzb21lLnJvdGF0ZS5jc3MiLz4KICAgIDxzdHlsZT5odG1sLCBib2R5IHt3aWR0aDogMTAwJTtoZWlnaHQ6IDEwMCU7bWFyZ2luOiAwO3BhZGRpbmc6IDA7fTwvc3R5bGU+CiAgICA8c3R5bGU+I21hcCB7cG9zaXRpb246YWJzb2x1dGU7dG9wOjA7Ym90dG9tOjA7cmlnaHQ6MDtsZWZ0OjA7fTwvc3R5bGU+CiAgICAKICAgICAgICAgICAgPG1ldGEgbmFtZT0idmlld3BvcnQiIGNvbnRlbnQ9IndpZHRoPWRldmljZS13aWR0aCwKICAgICAgICAgICAgICAgIGluaXRpYWwtc2NhbGU9MS4wLCBtYXhpbXVtLXNjYWxlPTEuMCwgdXNlci1zY2FsYWJsZT1ubyIgLz4KICAgICAgICAgICAgPHN0eWxlPgogICAgICAgICAgICAgICAgI21hcF81MGE1MjdlMTc2Y2I0MDJjODJkYjc3YzNjMWU0MjcxOSB7CiAgICAgICAgICAgICAgICAgICAgcG9zaXRpb246IHJlbGF0aXZlOwogICAgICAgICAgICAgICAgICAgIHdpZHRoOiAxMDAuMCU7CiAgICAgICAgICAgICAgICAgICAgaGVpZ2h0OiAxMDAuMCU7CiAgICAgICAgICAgICAgICAgICAgbGVmdDogMC4wJTsKICAgICAgICAgICAgICAgICAgICB0b3A6IDAuMCU7CiAgICAgICAgICAgICAgICB9CiAgICAgICAgICAgIDwvc3R5bGU+CiAgICAgICAgCjwvaGVhZD4KPGJvZHk+ICAgIAogICAgCiAgICAgICAgICAgIDxkaXYgY2xhc3M9ImZvbGl1bS1tYXAiIGlkPSJtYXBfNTBhNTI3ZTE3NmNiNDAyYzgyZGI3N2MzYzFlNDI3MTkiID48L2Rpdj4KICAgICAgICAKPC9ib2R5Pgo8c2NyaXB0PiAgICAKICAgIAogICAgICAgICAgICB2YXIgbWFwXzUwYTUyN2UxNzZjYjQwMmM4MmRiNzdjM2MxZTQyNzE5ID0gTC5tYXAoCiAgICAgICAgICAgICAgICAibWFwXzUwYTUyN2UxNzZjYjQwMmM4MmRiNzdjM2MxZTQyNzE5IiwKICAgICAgICAgICAgICAgIHsKICAgICAgICAgICAgICAgICAgICBjZW50ZXI6IFs0My42NTM5NjMsIC03OS4zODcyMDddLAogICAgICAgICAgICAgICAgICAgIGNyczogTC5DUlMuRVBTRzM4NTcsCiAgICAgICAgICAgICAgICAgICAgem9vbTogMTIsCiAgICAgICAgICAgICAgICAgICAgem9vbUNvbnRyb2w6IHRydWUsCiAgICAgICAgICAgICAgICAgICAgcHJlZmVyQ2FudmFzOiBmYWxzZSwKICAgICAgICAgICAgICAgIH0KICAgICAgICAgICAgKTsKCiAgICAgICAgICAgIAoKICAgICAgICAKICAgIAogICAgICAgICAgICB2YXIgdGlsZV9sYXllcl9iOTk0YzMwMDE4NzU0MWRjYTQzZThmYTBjYmI4M2NiOCA9IEwudGlsZUxheWVyKAogICAgICAgICAgICAgICAgImh0dHBzOi8ve3N9LnRpbGUub3BlbnN0cmVldG1hcC5vcmcve3p9L3t4fS97eX0ucG5nIiwKICAgICAgICAgICAgICAgIHsiYXR0cmlidXRpb24iOiAiRGF0YSBieSBcdTAwMjZjb3B5OyBcdTAwM2NhIGhyZWY9XCJodHRwOi8vb3BlbnN0cmVldG1hcC5vcmdcIlx1MDAzZU9wZW5TdHJlZXRNYXBcdTAwM2MvYVx1MDAzZSwgdW5kZXIgXHUwMDNjYSBocmVmPVwiaHR0cDovL3d3dy5vcGVuc3RyZWV0bWFwLm9yZy9jb3B5cmlnaHRcIlx1MDAzZU9EYkxcdTAwM2MvYVx1MDAzZS4iLCAiZGV0ZWN0UmV0aW5hIjogZmFsc2UsICJtYXhOYXRpdmVab29tIjogMTgsICJtYXhab29tIjogMTgsICJtaW5ab29tIjogMCwgIm5vV3JhcCI6IGZhbHNlLCAib3BhY2l0eSI6IDEsICJzdWJkb21haW5zIjogImFiYyIsICJ0bXMiOiBmYWxzZX0KICAgICAgICAgICAgKS5hZGRUbyhtYXBfNTBhNTI3ZTE3NmNiNDAyYzgyZGI3N2MzYzFlNDI3MTkpOwogICAgICAgIAogICAgCiAgICAgICAgICAgIHZhciBjaXJjbGVfbWFya2VyXzdmNmFiMjI4OGVhYTRjOTc5ZmYwZDA5MjM3ZTVkMzFjID0gTC5jaXJjbGVNYXJrZXIoCiAgICAgICAgICAgICAgICBbNDMuNjc2MzU3Mzk5OTk5OTksIC03OS4yOTMwMzEyXSwKICAgICAgICAgICAgICAgIHsiYnViYmxpbmdNb3VzZUV2ZW50cyI6IHRydWUsICJjb2xvciI6ICJibGFjayIsICJkYXNoQXJyYXkiOiBudWxsLCAiZGFzaE9mZnNldCI6IG51bGwsICJmaWxsIjogdHJ1ZSwgImZpbGxDb2xvciI6ICJ5ZWxsb3ciLCAiZmlsbE9wYWNpdHkiOiAwLjcsICJmaWxsUnVsZSI6ICJldmVub2RkIiwgImxpbmVDYXAiOiAicm91bmQiLCAibGluZUpvaW4iOiAicm91bmQiLCAib3BhY2l0eSI6IDEuMCwgInJhZGl1cyI6IDUsICJzdHJva2UiOiB0cnVlLCAid2VpZ2h0IjogM30KICAgICAgICAgICAgKS5hZGRUbyhtYXBfNTBhNTI3ZTE3NmNiNDAyYzgyZGI3N2MzYzFlNDI3MTkpOwogICAgICAgIAogICAgCiAgICAgICAgdmFyIHBvcHVwXzJmOTM5ZDdiMmVkNDRlZmFhM2Q0YmJiMmZlMjQ2OGIzID0gTC5wb3B1cCh7Im1heFdpZHRoIjogIjEwMCUifSk7CgogICAgICAgIAogICAgICAgICAgICB2YXIgaHRtbF85MzY2MjY2NjYyZDg0OGY4YTJhNWJmNzUzN2Q0YjA2NCA9ICQoYDxkaXYgaWQ9Imh0bWxfOTM2NjI2NjY2MmQ4NDhmOGEyYTViZjc1MzdkNGIwNjQiIHN0eWxlPSJ3aWR0aDogMTAwLjAlOyBoZWlnaHQ6IDEwMC4wJTsiPkVhc3QgVG9yb250bzwvZGl2PmApWzBdOwogICAgICAgICAgICBwb3B1cF8yZjkzOWQ3YjJlZDQ0ZWZhYTNkNGJiYjJmZTI0NjhiMy5zZXRDb250ZW50KGh0bWxfOTM2NjI2NjY2MmQ4NDhmOGEyYTViZjc1MzdkNGIwNjQpOwogICAgICAgIAoKICAgICAgICBjaXJjbGVfbWFya2VyXzdmNmFiMjI4OGVhYTRjOTc5ZmYwZDA5MjM3ZTVkMzFjLmJpbmRQb3B1cChwb3B1cF8yZjkzOWQ3YjJlZDQ0ZWZhYTNkNGJiYjJmZTI0NjhiMykKICAgICAgICA7CgogICAgICAgIAogICAgCiAgICAKICAgICAgICAgICAgdmFyIGNpcmNsZV9tYXJrZXJfODYwMWYwYjYxMzg0NGVhNGIxNTllNDYyYmVjMWZkZTMgPSBMLmNpcmNsZU1hcmtlcigKICAgICAgICAgICAgICAgIFs0My42Nzk1NTcxLCAtNzkuMzUyMTg4XSwKICAgICAgICAgICAgICAgIHsiYnViYmxpbmdNb3VzZUV2ZW50cyI6IHRydWUsICJjb2xvciI6ICJibGFjayIsICJkYXNoQXJyYXkiOiBudWxsLCAiZGFzaE9mZnNldCI6IG51bGwsICJmaWxsIjogdHJ1ZSwgImZpbGxDb2xvciI6ICJ5ZWxsb3ciLCAiZmlsbE9wYWNpdHkiOiAwLjcsICJmaWxsUnVsZSI6ICJldmVub2RkIiwgImxpbmVDYXAiOiAicm91bmQiLCAibGluZUpvaW4iOiAicm91bmQiLCAib3BhY2l0eSI6IDEuMCwgInJhZGl1cyI6IDUsICJzdHJva2UiOiB0cnVlLCAid2VpZ2h0IjogM30KICAgICAgICAgICAgKS5hZGRUbyhtYXBfNTBhNTI3ZTE3NmNiNDAyYzgyZGI3N2MzYzFlNDI3MTkpOwogICAgICAgIAogICAgCiAgICAgICAgdmFyIHBvcHVwX2M3MzgxNzJmNDc3NTQwMTdhZTFmNzc0NzA3ZGI3YmU4ID0gTC5wb3B1cCh7Im1heFdpZHRoIjogIjEwMCUifSk7CgogICAgICAgIAogICAgICAgICAgICB2YXIgaHRtbF82YzFlYjAyODUwNzI0MTk0YmY5NThkNjZkMDA2Mjc4NiA9ICQoYDxkaXYgaWQ9Imh0bWxfNmMxZWIwMjg1MDcyNDE5NGJmOTU4ZDY2ZDAwNjI3ODYiIHN0eWxlPSJ3aWR0aDogMTAwLjAlOyBoZWlnaHQ6IDEwMC4wJTsiPkVhc3QgVG9yb250bzwvZGl2PmApWzBdOwogICAgICAgICAgICBwb3B1cF9jNzM4MTcyZjQ3NzU0MDE3YWUxZjc3NDcwN2RiN2JlOC5zZXRDb250ZW50KGh0bWxfNmMxZWIwMjg1MDcyNDE5NGJmOTU4ZDY2ZDAwNjI3ODYpOwogICAgICAgIAoKICAgICAgICBjaXJjbGVfbWFya2VyXzg2MDFmMGI2MTM4NDRlYTRiMTU5ZTQ2MmJlYzFmZGUzLmJpbmRQb3B1cChwb3B1cF9jNzM4MTcyZjQ3NzU0MDE3YWUxZjc3NDcwN2RiN2JlOCkKICAgICAgICA7CgogICAgICAgIAogICAgCiAgICAKICAgICAgICAgICAgdmFyIGNpcmNsZV9tYXJrZXJfMjY3MzIzZmJlYWM4NDkwYjk1NWU1M2RkMzFmZTMwZjcgPSBMLmNpcmNsZU1hcmtlcigKICAgICAgICAgICAgICAgIFs0My42Njg5OTg1LCAtNzkuMzE1NTcxNTk5OTk5OThdLAogICAgICAgICAgICAgICAgeyJidWJibGluZ01vdXNlRXZlbnRzIjogdHJ1ZSwgImNvbG9yIjogImJsYWNrIiwgImRhc2hBcnJheSI6IG51bGwsICJkYXNoT2Zmc2V0IjogbnVsbCwgImZpbGwiOiB0cnVlLCAiZmlsbENvbG9yIjogInllbGxvdyIsICJmaWxsT3BhY2l0eSI6IDAuNywgImZpbGxSdWxlIjogImV2ZW5vZGQiLCAibGluZUNhcCI6ICJyb3VuZCIsICJsaW5lSm9pbiI6ICJyb3VuZCIsICJvcGFjaXR5IjogMS4wLCAicmFkaXVzIjogNSwgInN0cm9rZSI6IHRydWUsICJ3ZWlnaHQiOiAzfQogICAgICAgICAgICApLmFkZFRvKG1hcF81MGE1MjdlMTc2Y2I0MDJjODJkYjc3YzNjMWU0MjcxOSk7CiAgICAgICAgCiAgICAKICAgICAgICB2YXIgcG9wdXBfMTE5NGQ0NDM1ZDEwNDVkZWE4MjVhZWJkNGIzNmFiOGEgPSBMLnBvcHVwKHsibWF4V2lkdGgiOiAiMTAwJSJ9KTsKCiAgICAgICAgCiAgICAgICAgICAgIHZhciBodG1sX2NiYzdlYmExOGQyYzQ1NzBhZDJmYzZlYjAwYjliYmMxID0gJChgPGRpdiBpZD0iaHRtbF9jYmM3ZWJhMThkMmM0NTcwYWQyZmM2ZWIwMGI5YmJjMSIgc3R5bGU9IndpZHRoOiAxMDAuMCU7IGhlaWdodDogMTAwLjAlOyI+RWFzdCBUb3JvbnRvPC9kaXY+YClbMF07CiAgICAgICAgICAgIHBvcHVwXzExOTRkNDQzNWQxMDQ1ZGVhODI1YWViZDRiMzZhYjhhLnNldENvbnRlbnQoaHRtbF9jYmM3ZWJhMThkMmM0NTcwYWQyZmM2ZWIwMGI5YmJjMSk7CiAgICAgICAgCgogICAgICAgIGNpcmNsZV9tYXJrZXJfMjY3MzIzZmJlYWM4NDkwYjk1NWU1M2RkMzFmZTMwZjcuYmluZFBvcHVwKHBvcHVwXzExOTRkNDQzNWQxMDQ1ZGVhODI1YWViZDRiMzZhYjhhKQogICAgICAgIDsKCiAgICAgICAgCiAgICAKICAgIAogICAgICAgICAgICB2YXIgY2lyY2xlX21hcmtlcl8yMTQ5NjQ1NTIxMmQ0ZGE2OWI5YmEwZDYyMDcyNTg3NSA9IEwuY2lyY2xlTWFya2VyKAogICAgICAgICAgICAgICAgWzQzLjY1OTUyNTUsIC03OS4zNDA5MjNdLAogICAgICAgICAgICAgICAgeyJidWJibGluZ01vdXNlRXZlbnRzIjogdHJ1ZSwgImNvbG9yIjogImJsYWNrIiwgImRhc2hBcnJheSI6IG51bGwsICJkYXNoT2Zmc2V0IjogbnVsbCwgImZpbGwiOiB0cnVlLCAiZmlsbENvbG9yIjogInllbGxvdyIsICJmaWxsT3BhY2l0eSI6IDAuNywgImZpbGxSdWxlIjogImV2ZW5vZGQiLCAibGluZUNhcCI6ICJyb3VuZCIsICJsaW5lSm9pbiI6ICJyb3VuZCIsICJvcGFjaXR5IjogMS4wLCAicmFkaXVzIjogNSwgInN0cm9rZSI6IHRydWUsICJ3ZWlnaHQiOiAzfQogICAgICAgICAgICApLmFkZFRvKG1hcF81MGE1MjdlMTc2Y2I0MDJjODJkYjc3YzNjMWU0MjcxOSk7CiAgICAgICAgCiAgICAKICAgICAgICB2YXIgcG9wdXBfMzBkNDViNjRlODA4NDQxMzk1YjY2YjQ0ZTkzOTFjNDEgPSBMLnBvcHVwKHsibWF4V2lkdGgiOiAiMTAwJSJ9KTsKCiAgICAgICAgCiAgICAgICAgICAgIHZhciBodG1sXzExYjNkMjZkOWE4MDQ1OTFiMDgzNDRmMTc0ZDI4OGNmID0gJChgPGRpdiBpZD0iaHRtbF8xMWIzZDI2ZDlhODA0NTkxYjA4MzQ0ZjE3NGQyODhjZiIgc3R5bGU9IndpZHRoOiAxMDAuMCU7IGhlaWdodDogMTAwLjAlOyI+RWFzdCBUb3JvbnRvPC9kaXY+YClbMF07CiAgICAgICAgICAgIHBvcHVwXzMwZDQ1YjY0ZTgwODQ0MTM5NWI2NmI0NGU5MzkxYzQxLnNldENvbnRlbnQoaHRtbF8xMWIzZDI2ZDlhODA0NTkxYjA4MzQ0ZjE3NGQyODhjZik7CiAgICAgICAgCgogICAgICAgIGNpcmNsZV9tYXJrZXJfMjE0OTY0NTUyMTJkNGRhNjliOWJhMGQ2MjA3MjU4NzUuYmluZFBvcHVwKHBvcHVwXzMwZDQ1YjY0ZTgwODQ0MTM5NWI2NmI0NGU5MzkxYzQxKQogICAgICAgIDsKCiAgICAgICAgCiAgICAKICAgIAogICAgICAgICAgICB2YXIgY2lyY2xlX21hcmtlcl8zM2Y3OTI4Yjg5N2E0MmQyODA4ZjlmMDBmMTA1OTM5ZiA9IEwuY2lyY2xlTWFya2VyKAogICAgICAgICAgICAgICAgWzQzLjcyODAyMDUsIC03OS4zODg3OTAxXSwKICAgICAgICAgICAgICAgIHsiYnViYmxpbmdNb3VzZUV2ZW50cyI6IHRydWUsICJjb2xvciI6ICJibGFjayIsICJkYXNoQXJyYXkiOiBudWxsLCAiZGFzaE9mZnNldCI6IG51bGwsICJmaWxsIjogdHJ1ZSwgImZpbGxDb2xvciI6ICJibHVlIiwgImZpbGxPcGFjaXR5IjogMC43LCAiZmlsbFJ1bGUiOiAiZXZlbm9kZCIsICJsaW5lQ2FwIjogInJvdW5kIiwgImxpbmVKb2luIjogInJvdW5kIiwgIm9wYWNpdHkiOiAxLjAsICJyYWRpdXMiOiA1LCAic3Ryb2tlIjogdHJ1ZSwgIndlaWdodCI6IDN9CiAgICAgICAgICAgICkuYWRkVG8obWFwXzUwYTUyN2UxNzZjYjQwMmM4MmRiNzdjM2MxZTQyNzE5KTsKICAgICAgICAKICAgIAogICAgICAgIHZhciBwb3B1cF84ODY4NDk0ODc2Zjg0OWE0OWRkNDA4MGVlMjJkMzA0YyA9IEwucG9wdXAoeyJtYXhXaWR0aCI6ICIxMDAlIn0pOwoKICAgICAgICAKICAgICAgICAgICAgdmFyIGh0bWxfYmI5YzE5ZTg4YTgyNDRmMDk1NTc1NDI4ZTI5MzhkYTIgPSAkKGA8ZGl2IGlkPSJodG1sX2JiOWMxOWU4OGE4MjQ0ZjA5NTU3NTQyOGUyOTM4ZGEyIiBzdHlsZT0id2lkdGg6IDEwMC4wJTsgaGVpZ2h0OiAxMDAuMCU7Ij5DZW50cmFsIFRvcm9udG88L2Rpdj5gKVswXTsKICAgICAgICAgICAgcG9wdXBfODg2ODQ5NDg3NmY4NDlhNDlkZDQwODBlZTIyZDMwNGMuc2V0Q29udGVudChodG1sX2JiOWMxOWU4OGE4MjQ0ZjA5NTU3NTQyOGUyOTM4ZGEyKTsKICAgICAgICAKCiAgICAgICAgY2lyY2xlX21hcmtlcl8zM2Y3OTI4Yjg5N2E0MmQyODA4ZjlmMDBmMTA1OTM5Zi5iaW5kUG9wdXAocG9wdXBfODg2ODQ5NDg3NmY4NDlhNDlkZDQwODBlZTIyZDMwNGMpCiAgICAgICAgOwoKICAgICAgICAKICAgIAogICAgCiAgICAgICAgICAgIHZhciBjaXJjbGVfbWFya2VyXzgyMTg2YjUzZGJiZjRhMDA4ODFhZmZiMWI1NDIwNzNiID0gTC5jaXJjbGVNYXJrZXIoCiAgICAgICAgICAgICAgICBbNDMuNzEyNzUxMSwgLTc5LjM5MDE5NzVdLAogICAgICAgICAgICAgICAgeyJidWJibGluZ01vdXNlRXZlbnRzIjogdHJ1ZSwgImNvbG9yIjogImJsYWNrIiwgImRhc2hBcnJheSI6IG51bGwsICJkYXNoT2Zmc2V0IjogbnVsbCwgImZpbGwiOiB0cnVlLCAiZmlsbENvbG9yIjogImJsdWUiLCAiZmlsbE9wYWNpdHkiOiAwLjcsICJmaWxsUnVsZSI6ICJldmVub2RkIiwgImxpbmVDYXAiOiAicm91bmQiLCAibGluZUpvaW4iOiAicm91bmQiLCAib3BhY2l0eSI6IDEuMCwgInJhZGl1cyI6IDUsICJzdHJva2UiOiB0cnVlLCAid2VpZ2h0IjogM30KICAgICAgICAgICAgKS5hZGRUbyhtYXBfNTBhNTI3ZTE3NmNiNDAyYzgyZGI3N2MzYzFlNDI3MTkpOwogICAgICAgIAogICAgCiAgICAgICAgdmFyIHBvcHVwXzg1ODkwNDkwY2NmYjQ0YjRhMTkxNTllNGE5NDFhODZjID0gTC5wb3B1cCh7Im1heFdpZHRoIjogIjEwMCUifSk7CgogICAgICAgIAogICAgICAgICAgICB2YXIgaHRtbF8xNmYyMDRiNzMyODQ0MGZlOTdhNjNiMDA4OTdiOGY4MSA9ICQoYDxkaXYgaWQ9Imh0bWxfMTZmMjA0YjczMjg0NDBmZTk3YTYzYjAwODk3YjhmODEiIHN0eWxlPSJ3aWR0aDogMTAwLjAlOyBoZWlnaHQ6IDEwMC4wJTsiPkNlbnRyYWwgVG9yb250bzwvZGl2PmApWzBdOwogICAgICAgICAgICBwb3B1cF84NTg5MDQ5MGNjZmI0NGI0YTE5MTU5ZTRhOTQxYTg2Yy5zZXRDb250ZW50KGh0bWxfMTZmMjA0YjczMjg0NDBmZTk3YTYzYjAwODk3YjhmODEpOwogICAgICAgIAoKICAgICAgICBjaXJjbGVfbWFya2VyXzgyMTg2YjUzZGJiZjRhMDA4ODFhZmZiMWI1NDIwNzNiLmJpbmRQb3B1cChwb3B1cF84NTg5MDQ5MGNjZmI0NGI0YTE5MTU5ZTRhOTQxYTg2YykKICAgICAgICA7CgogICAgICAgIAogICAgCiAgICAKICAgICAgICAgICAgdmFyIGNpcmNsZV9tYXJrZXJfMjdlYTMxNmY2OTU4NGFjMjk4MjNmY2I3NzFkMmM1OTYgPSBMLmNpcmNsZU1hcmtlcigKICAgICAgICAgICAgICAgIFs0My43MTUzODM0LCAtNzkuNDA1Njc4NDAwMDAwMDFdLAogICAgICAgICAgICAgICAgeyJidWJibGluZ01vdXNlRXZlbnRzIjogdHJ1ZSwgImNvbG9yIjogImJsYWNrIiwgImRhc2hBcnJheSI6IG51bGwsICJkYXNoT2Zmc2V0IjogbnVsbCwgImZpbGwiOiB0cnVlLCAiZmlsbENvbG9yIjogImJsdWUiLCAiZmlsbE9wYWNpdHkiOiAwLjcsICJmaWxsUnVsZSI6ICJldmVub2RkIiwgImxpbmVDYXAiOiAicm91bmQiLCAibGluZUpvaW4iOiAicm91bmQiLCAib3BhY2l0eSI6IDEuMCwgInJhZGl1cyI6IDUsICJzdHJva2UiOiB0cnVlLCAid2VpZ2h0IjogM30KICAgICAgICAgICAgKS5hZGRUbyhtYXBfNTBhNTI3ZTE3NmNiNDAyYzgyZGI3N2MzYzFlNDI3MTkpOwogICAgICAgIAogICAgCiAgICAgICAgdmFyIHBvcHVwXzMzZWFmZDIyMWU2ZTQxYmM5MTM3YzRjMTQ1OTgwN2RiID0gTC5wb3B1cCh7Im1heFdpZHRoIjogIjEwMCUifSk7CgogICAgICAgIAogICAgICAgICAgICB2YXIgaHRtbF81Yjg2YzE3YWIwNmM0YzMyYmYzYmRhMzI3OTE5MDliZCA9ICQoYDxkaXYgaWQ9Imh0bWxfNWI4NmMxN2FiMDZjNGMzMmJmM2JkYTMyNzkxOTA5YmQiIHN0eWxlPSJ3aWR0aDogMTAwLjAlOyBoZWlnaHQ6IDEwMC4wJTsiPkNlbnRyYWwgVG9yb250bzwvZGl2PmApWzBdOwogICAgICAgICAgICBwb3B1cF8zM2VhZmQyMjFlNmU0MWJjOTEzN2M0YzE0NTk4MDdkYi5zZXRDb250ZW50KGh0bWxfNWI4NmMxN2FiMDZjNGMzMmJmM2JkYTMyNzkxOTA5YmQpOwogICAgICAgIAoKICAgICAgICBjaXJjbGVfbWFya2VyXzI3ZWEzMTZmNjk1ODRhYzI5ODIzZmNiNzcxZDJjNTk2LmJpbmRQb3B1cChwb3B1cF8zM2VhZmQyMjFlNmU0MWJjOTEzN2M0YzE0NTk4MDdkYikKICAgICAgICA7CgogICAgICAgIAogICAgCiAgICAKICAgICAgICAgICAgdmFyIGNpcmNsZV9tYXJrZXJfMWE2MTMzZmJjZmE3NDhlODlkMDYzYTAyNTMwZjFiZDUgPSBMLmNpcmNsZU1hcmtlcigKICAgICAgICAgICAgICAgIFs0My43MDQzMjQ0LCAtNzkuMzg4NzkwMV0sCiAgICAgICAgICAgICAgICB7ImJ1YmJsaW5nTW91c2VFdmVudHMiOiB0cnVlLCAiY29sb3IiOiAiYmxhY2siLCAiZGFzaEFycmF5IjogbnVsbCwgImRhc2hPZmZzZXQiOiBudWxsLCAiZmlsbCI6IHRydWUsICJmaWxsQ29sb3IiOiAiYmx1ZSIsICJmaWxsT3BhY2l0eSI6IDAuNywgImZpbGxSdWxlIjogImV2ZW5vZGQiLCAibGluZUNhcCI6ICJyb3VuZCIsICJsaW5lSm9pbiI6ICJyb3VuZCIsICJvcGFjaXR5IjogMS4wLCAicmFkaXVzIjogNSwgInN0cm9rZSI6IHRydWUsICJ3ZWlnaHQiOiAzfQogICAgICAgICAgICApLmFkZFRvKG1hcF81MGE1MjdlMTc2Y2I0MDJjODJkYjc3YzNjMWU0MjcxOSk7CiAgICAgICAgCiAgICAKICAgICAgICB2YXIgcG9wdXBfNjU3YTk2ZjVlNjM1NDFjMTkzY2RmZjhkYzFiZmU2NWMgPSBMLnBvcHVwKHsibWF4V2lkdGgiOiAiMTAwJSJ9KTsKCiAgICAgICAgCiAgICAgICAgICAgIHZhciBodG1sX2U5MmUzM2VmOTJlOTRiZTNhODAyZWQ5Njk4MzFhYzg0ID0gJChgPGRpdiBpZD0iaHRtbF9lOTJlMzNlZjkyZTk0YmUzYTgwMmVkOTY5ODMxYWM4NCIgc3R5bGU9IndpZHRoOiAxMDAuMCU7IGhlaWdodDogMTAwLjAlOyI+Q2VudHJhbCBUb3JvbnRvPC9kaXY+YClbMF07CiAgICAgICAgICAgIHBvcHVwXzY1N2E5NmY1ZTYzNTQxYzE5M2NkZmY4ZGMxYmZlNjVjLnNldENvbnRlbnQoaHRtbF9lOTJlMzNlZjkyZTk0YmUzYTgwMmVkOTY5ODMxYWM4NCk7CiAgICAgICAgCgogICAgICAgIGNpcmNsZV9tYXJrZXJfMWE2MTMzZmJjZmE3NDhlODlkMDYzYTAyNTMwZjFiZDUuYmluZFBvcHVwKHBvcHVwXzY1N2E5NmY1ZTYzNTQxYzE5M2NkZmY4ZGMxYmZlNjVjKQogICAgICAgIDsKCiAgICAgICAgCiAgICAKICAgIAogICAgICAgICAgICB2YXIgY2lyY2xlX21hcmtlcl83MmJhODRlYzRmMTM0OTQ5YjQyYmVhODJmZjY1ODM1MyA9IEwuY2lyY2xlTWFya2VyKAogICAgICAgICAgICAgICAgWzQzLjY4OTU3NDMsIC03OS4zODMxNTk5MDAwMDAwMV0sCiAgICAgICAgICAgICAgICB7ImJ1YmJsaW5nTW91c2VFdmVudHMiOiB0cnVlLCAiY29sb3IiOiAiYmxhY2siLCAiZGFzaEFycmF5IjogbnVsbCwgImRhc2hPZmZzZXQiOiBudWxsLCAiZmlsbCI6IHRydWUsICJmaWxsQ29sb3IiOiAiYmx1ZSIsICJmaWxsT3BhY2l0eSI6IDAuNywgImZpbGxSdWxlIjogImV2ZW5vZGQiLCAibGluZUNhcCI6ICJyb3VuZCIsICJsaW5lSm9pbiI6ICJyb3VuZCIsICJvcGFjaXR5IjogMS4wLCAicmFkaXVzIjogNSwgInN0cm9rZSI6IHRydWUsICJ3ZWlnaHQiOiAzfQogICAgICAgICAgICApLmFkZFRvKG1hcF81MGE1MjdlMTc2Y2I0MDJjODJkYjc3YzNjMWU0MjcxOSk7CiAgICAgICAgCiAgICAKICAgICAgICB2YXIgcG9wdXBfYjk4OTQ5MjE4MGJjNGFhNDk5YzlmOTAzYWU1ZGMwNmYgPSBMLnBvcHVwKHsibWF4V2lkdGgiOiAiMTAwJSJ9KTsKCiAgICAgICAgCiAgICAgICAgICAgIHZhciBodG1sXzA4N2Y1MjkyZWQxZTRjNzhiMTRmNTRiOTFiODJjYzNkID0gJChgPGRpdiBpZD0iaHRtbF8wODdmNTI5MmVkMWU0Yzc4YjE0ZjU0YjkxYjgyY2MzZCIgc3R5bGU9IndpZHRoOiAxMDAuMCU7IGhlaWdodDogMTAwLjAlOyI+Q2VudHJhbCBUb3JvbnRvPC9kaXY+YClbMF07CiAgICAgICAgICAgIHBvcHVwX2I5ODk0OTIxODBiYzRhYTQ5OWM5ZjkwM2FlNWRjMDZmLnNldENvbnRlbnQoaHRtbF8wODdmNTI5MmVkMWU0Yzc4YjE0ZjU0YjkxYjgyY2MzZCk7CiAgICAgICAgCgogICAgICAgIGNpcmNsZV9tYXJrZXJfNzJiYTg0ZWM0ZjEzNDk0OWI0MmJlYTgyZmY2NTgzNTMuYmluZFBvcHVwKHBvcHVwX2I5ODk0OTIxODBiYzRhYTQ5OWM5ZjkwM2FlNWRjMDZmKQogICAgICAgIDsKCiAgICAgICAgCiAgICAKICAgIAogICAgICAgICAgICB2YXIgY2lyY2xlX21hcmtlcl9lMTNiODIxZjgwODU0OWQyODIzNDc5ZGJjNzUzN2FlYSA9IEwuY2lyY2xlTWFya2VyKAogICAgICAgICAgICAgICAgWzQzLjY4NjQxMjI5OTk5OTk5LCAtNzkuNDAwMDQ5M10sCiAgICAgICAgICAgICAgICB7ImJ1YmJsaW5nTW91c2VFdmVudHMiOiB0cnVlLCAiY29sb3IiOiAiYmxhY2siLCAiZGFzaEFycmF5IjogbnVsbCwgImRhc2hPZmZzZXQiOiBudWxsLCAiZmlsbCI6IHRydWUsICJmaWxsQ29sb3IiOiAiYmx1ZSIsICJmaWxsT3BhY2l0eSI6IDAuNywgImZpbGxSdWxlIjogImV2ZW5vZGQiLCAibGluZUNhcCI6ICJyb3VuZCIsICJsaW5lSm9pbiI6ICJyb3VuZCIsICJvcGFjaXR5IjogMS4wLCAicmFkaXVzIjogNSwgInN0cm9rZSI6IHRydWUsICJ3ZWlnaHQiOiAzfQogICAgICAgICAgICApLmFkZFRvKG1hcF81MGE1MjdlMTc2Y2I0MDJjODJkYjc3YzNjMWU0MjcxOSk7CiAgICAgICAgCiAgICAKICAgICAgICB2YXIgcG9wdXBfYzE5Yjg1MTAxMmQ2NDU5MWI3MjE0YzU3ZTMyMmE0ZTggPSBMLnBvcHVwKHsibWF4V2lkdGgiOiAiMTAwJSJ9KTsKCiAgICAgICAgCiAgICAgICAgICAgIHZhciBodG1sXzVhYWRhYTIwNDVhNjRhMGM4YThjM2ZiYjBmZmFiYzQ0ID0gJChgPGRpdiBpZD0iaHRtbF81YWFkYWEyMDQ1YTY0YTBjOGE4YzNmYmIwZmZhYmM0NCIgc3R5bGU9IndpZHRoOiAxMDAuMCU7IGhlaWdodDogMTAwLjAlOyI+Q2VudHJhbCBUb3JvbnRvPC9kaXY+YClbMF07CiAgICAgICAgICAgIHBvcHVwX2MxOWI4NTEwMTJkNjQ1OTFiNzIxNGM1N2UzMjJhNGU4LnNldENvbnRlbnQoaHRtbF81YWFkYWEyMDQ1YTY0YTBjOGE4YzNmYmIwZmZhYmM0NCk7CiAgICAgICAgCgogICAgICAgIGNpcmNsZV9tYXJrZXJfZTEzYjgyMWY4MDg1NDlkMjgyMzQ3OWRiYzc1MzdhZWEuYmluZFBvcHVwKHBvcHVwX2MxOWI4NTEwMTJkNjQ1OTFiNzIxNGM1N2UzMjJhNGU4KQogICAgICAgIDsKCiAgICAgICAgCiAgICAKICAgIAogICAgICAgICAgICB2YXIgY2lyY2xlX21hcmtlcl83ODdlNDUwOWM2OWM0MjJmYjNiOTcyZjJiNDAzYjMxNiA9IEwuY2lyY2xlTWFya2VyKAogICAgICAgICAgICAgICAgWzQzLjY3OTU2MjYsIC03OS4zNzc1Mjk0MDAwMDAwMV0sCiAgICAgICAgICAgICAgICB7ImJ1YmJsaW5nTW91c2VFdmVudHMiOiB0cnVlLCAiY29sb3IiOiAiYmxhY2siLCAiZGFzaEFycmF5IjogbnVsbCwgImRhc2hPZmZzZXQiOiBudWxsLCAiZmlsbCI6IHRydWUsICJmaWxsQ29sb3IiOiAiZ3JlZW4iLCAiZmlsbE9wYWNpdHkiOiAwLjcsICJmaWxsUnVsZSI6ICJldmVub2RkIiwgImxpbmVDYXAiOiAicm91bmQiLCAibGluZUpvaW4iOiAicm91bmQiLCAib3BhY2l0eSI6IDEuMCwgInJhZGl1cyI6IDUsICJzdHJva2UiOiB0cnVlLCAid2VpZ2h0IjogM30KICAgICAgICAgICAgKS5hZGRUbyhtYXBfNTBhNTI3ZTE3NmNiNDAyYzgyZGI3N2MzYzFlNDI3MTkpOwogICAgICAgIAogICAgCiAgICAgICAgdmFyIHBvcHVwXzY5NmQ4MGQzMThlNzQ5YzRhNmM3MjNiMWIwYzBkOTFkID0gTC5wb3B1cCh7Im1heFdpZHRoIjogIjEwMCUifSk7CgogICAgICAgIAogICAgICAgICAgICB2YXIgaHRtbF83ZjRhNTI0NDUyNmM0MjM2YWU1YTkyOTZmY2E1ZjZhZiA9ICQoYDxkaXYgaWQ9Imh0bWxfN2Y0YTUyNDQ1MjZjNDIzNmFlNWE5Mjk2ZmNhNWY2YWYiIHN0eWxlPSJ3aWR0aDogMTAwLjAlOyBoZWlnaHQ6IDEwMC4wJTsiPkRvd250b3duIFRvcm9udG88L2Rpdj5gKVswXTsKICAgICAgICAgICAgcG9wdXBfNjk2ZDgwZDMxOGU3NDljNGE2YzcyM2IxYjBjMGQ5MWQuc2V0Q29udGVudChodG1sXzdmNGE1MjQ0NTI2YzQyMzZhZTVhOTI5NmZjYTVmNmFmKTsKICAgICAgICAKCiAgICAgICAgY2lyY2xlX21hcmtlcl83ODdlNDUwOWM2OWM0MjJmYjNiOTcyZjJiNDAzYjMxNi5iaW5kUG9wdXAocG9wdXBfNjk2ZDgwZDMxOGU3NDljNGE2YzcyM2IxYjBjMGQ5MWQpCiAgICAgICAgOwoKICAgICAgICAKICAgIAogICAgCiAgICAgICAgICAgIHZhciBjaXJjbGVfbWFya2VyXzMyNGI3MzhmNGIwNjQzNDhiMjkxNjlkOWMwMjY2Y2NhID0gTC5jaXJjbGVNYXJrZXIoCiAgICAgICAgICAgICAgICBbNDMuNjY3OTY3LCAtNzkuMzY3Njc1M10sCiAgICAgICAgICAgICAgICB7ImJ1YmJsaW5nTW91c2VFdmVudHMiOiB0cnVlLCAiY29sb3IiOiAiYmxhY2siLCAiZGFzaEFycmF5IjogbnVsbCwgImRhc2hPZmZzZXQiOiBudWxsLCAiZmlsbCI6IHRydWUsICJmaWxsQ29sb3IiOiAiZ3JlZW4iLCAiZmlsbE9wYWNpdHkiOiAwLjcsICJmaWxsUnVsZSI6ICJldmVub2RkIiwgImxpbmVDYXAiOiAicm91bmQiLCAibGluZUpvaW4iOiAicm91bmQiLCAib3BhY2l0eSI6IDEuMCwgInJhZGl1cyI6IDUsICJzdHJva2UiOiB0cnVlLCAid2VpZ2h0IjogM30KICAgICAgICAgICAgKS5hZGRUbyhtYXBfNTBhNTI3ZTE3NmNiNDAyYzgyZGI3N2MzYzFlNDI3MTkpOwogICAgICAgIAogICAgCiAgICAgICAgdmFyIHBvcHVwXzM4NTE1ZTJiYzc0YjQ3MWQ4ZTU5NjhhNWJkMTgzYjAzID0gTC5wb3B1cCh7Im1heFdpZHRoIjogIjEwMCUifSk7CgogICAgICAgIAogICAgICAgICAgICB2YXIgaHRtbF9hZTAxZjA5ZmFiOGM0MTc1OTAwZDcwODlmOTE2YjIxNyA9ICQoYDxkaXYgaWQ9Imh0bWxfYWUwMWYwOWZhYjhjNDE3NTkwMGQ3MDg5ZjkxNmIyMTciIHN0eWxlPSJ3aWR0aDogMTAwLjAlOyBoZWlnaHQ6IDEwMC4wJTsiPkRvd250b3duIFRvcm9udG88L2Rpdj5gKVswXTsKICAgICAgICAgICAgcG9wdXBfMzg1MTVlMmJjNzRiNDcxZDhlNTk2OGE1YmQxODNiMDMuc2V0Q29udGVudChodG1sX2FlMDFmMDlmYWI4YzQxNzU5MDBkNzA4OWY5MTZiMjE3KTsKICAgICAgICAKCiAgICAgICAgY2lyY2xlX21hcmtlcl8zMjRiNzM4ZjRiMDY0MzQ4YjI5MTY5ZDljMDI2NmNjYS5iaW5kUG9wdXAocG9wdXBfMzg1MTVlMmJjNzRiNDcxZDhlNTk2OGE1YmQxODNiMDMpCiAgICAgICAgOwoKICAgICAgICAKICAgIAogICAgCiAgICAgICAgICAgIHZhciBjaXJjbGVfbWFya2VyX2FlZTkzOGZmZTIwMTQ4NWE5MWM3MWIwNzliMzBhM2U1ID0gTC5jaXJjbGVNYXJrZXIoCiAgICAgICAgICAgICAgICBbNDMuNjY1ODU5OSwgLTc5LjM4MzE1OTkwMDAwMDAxXSwKICAgICAgICAgICAgICAgIHsiYnViYmxpbmdNb3VzZUV2ZW50cyI6IHRydWUsICJjb2xvciI6ICJibGFjayIsICJkYXNoQXJyYXkiOiBudWxsLCAiZGFzaE9mZnNldCI6IG51bGwsICJmaWxsIjogdHJ1ZSwgImZpbGxDb2xvciI6ICJncmVlbiIsICJmaWxsT3BhY2l0eSI6IDAuNywgImZpbGxSdWxlIjogImV2ZW5vZGQiLCAibGluZUNhcCI6ICJyb3VuZCIsICJsaW5lSm9pbiI6ICJyb3VuZCIsICJvcGFjaXR5IjogMS4wLCAicmFkaXVzIjogNSwgInN0cm9rZSI6IHRydWUsICJ3ZWlnaHQiOiAzfQogICAgICAgICAgICApLmFkZFRvKG1hcF81MGE1MjdlMTc2Y2I0MDJjODJkYjc3YzNjMWU0MjcxOSk7CiAgICAgICAgCiAgICAKICAgICAgICB2YXIgcG9wdXBfOGQwZTYzZGM5MDY4NDM3Mzk4YmExMjcwY2YxMWUzNzEgPSBMLnBvcHVwKHsibWF4V2lkdGgiOiAiMTAwJSJ9KTsKCiAgICAgICAgCiAgICAgICAgICAgIHZhciBodG1sX2VjMzY0NDc1NzFmZjQ4YTVhM2ViZmM1YzA2Y2FhNTNlID0gJChgPGRpdiBpZD0iaHRtbF9lYzM2NDQ3NTcxZmY0OGE1YTNlYmZjNWMwNmNhYTUzZSIgc3R5bGU9IndpZHRoOiAxMDAuMCU7IGhlaWdodDogMTAwLjAlOyI+RG93bnRvd24gVG9yb250bzwvZGl2PmApWzBdOwogICAgICAgICAgICBwb3B1cF84ZDBlNjNkYzkwNjg0MzczOThiYTEyNzBjZjExZTM3MS5zZXRDb250ZW50KGh0bWxfZWMzNjQ0NzU3MWZmNDhhNWEzZWJmYzVjMDZjYWE1M2UpOwogICAgICAgIAoKICAgICAgICBjaXJjbGVfbWFya2VyX2FlZTkzOGZmZTIwMTQ4NWE5MWM3MWIwNzliMzBhM2U1LmJpbmRQb3B1cChwb3B1cF84ZDBlNjNkYzkwNjg0MzczOThiYTEyNzBjZjExZTM3MSkKICAgICAgICA7CgogICAgICAgIAogICAgCiAgICAKICAgICAgICAgICAgdmFyIGNpcmNsZV9tYXJrZXJfNDhmM2RlMTNhNDkzNGE2YzljMDEyNGM1ZmI4MTcxYzUgPSBMLmNpcmNsZU1hcmtlcigKICAgICAgICAgICAgICAgIFs0My42NTQyNTk5LCAtNzkuMzYwNjM1OV0sCiAgICAgICAgICAgICAgICB7ImJ1YmJsaW5nTW91c2VFdmVudHMiOiB0cnVlLCAiY29sb3IiOiAiYmxhY2siLCAiZGFzaEFycmF5IjogbnVsbCwgImRhc2hPZmZzZXQiOiBudWxsLCAiZmlsbCI6IHRydWUsICJmaWxsQ29sb3IiOiAiZ3JlZW4iLCAiZmlsbE9wYWNpdHkiOiAwLjcsICJmaWxsUnVsZSI6ICJldmVub2RkIiwgImxpbmVDYXAiOiAicm91bmQiLCAibGluZUpvaW4iOiAicm91bmQiLCAib3BhY2l0eSI6IDEuMCwgInJhZGl1cyI6IDUsICJzdHJva2UiOiB0cnVlLCAid2VpZ2h0IjogM30KICAgICAgICAgICAgKS5hZGRUbyhtYXBfNTBhNTI3ZTE3NmNiNDAyYzgyZGI3N2MzYzFlNDI3MTkpOwogICAgICAgIAogICAgCiAgICAgICAgdmFyIHBvcHVwXzZmNzNlYzIxZmZlZDQ5NTE4ZjI1MGQzMzdhNmNmNGE0ID0gTC5wb3B1cCh7Im1heFdpZHRoIjogIjEwMCUifSk7CgogICAgICAgIAogICAgICAgICAgICB2YXIgaHRtbF8zNjg0OGY1NGQyMmY0OWI4YjQyYmQ4YjVkZTg3NTBlMSA9ICQoYDxkaXYgaWQ9Imh0bWxfMzY4NDhmNTRkMjJmNDliOGI0MmJkOGI1ZGU4NzUwZTEiIHN0eWxlPSJ3aWR0aDogMTAwLjAlOyBoZWlnaHQ6IDEwMC4wJTsiPkRvd250b3duIFRvcm9udG88L2Rpdj5gKVswXTsKICAgICAgICAgICAgcG9wdXBfNmY3M2VjMjFmZmVkNDk1MThmMjUwZDMzN2E2Y2Y0YTQuc2V0Q29udGVudChodG1sXzM2ODQ4ZjU0ZDIyZjQ5YjhiNDJiZDhiNWRlODc1MGUxKTsKICAgICAgICAKCiAgICAgICAgY2lyY2xlX21hcmtlcl80OGYzZGUxM2E0OTM0YTZjOWMwMTI0YzVmYjgxNzFjNS5iaW5kUG9wdXAocG9wdXBfNmY3M2VjMjFmZmVkNDk1MThmMjUwZDMzN2E2Y2Y0YTQpCiAgICAgICAgOwoKICAgICAgICAKICAgIAogICAgCiAgICAgICAgICAgIHZhciBjaXJjbGVfbWFya2VyXzAxODEyZGI0ZTFmMzQzZjc5NGRiOWIxNDRlOTY4MTUzID0gTC5jaXJjbGVNYXJrZXIoCiAgICAgICAgICAgICAgICBbNDMuNjU3MTYxOCwgLTc5LjM3ODkzNzA5OTk5OTk5XSwKICAgICAgICAgICAgICAgIHsiYnViYmxpbmdNb3VzZUV2ZW50cyI6IHRydWUsICJjb2xvciI6ICJibGFjayIsICJkYXNoQXJyYXkiOiBudWxsLCAiZGFzaE9mZnNldCI6IG51bGwsICJmaWxsIjogdHJ1ZSwgImZpbGxDb2xvciI6ICJncmVlbiIsICJmaWxsT3BhY2l0eSI6IDAuNywgImZpbGxSdWxlIjogImV2ZW5vZGQiLCAibGluZUNhcCI6ICJyb3VuZCIsICJsaW5lSm9pbiI6ICJyb3VuZCIsICJvcGFjaXR5IjogMS4wLCAicmFkaXVzIjogNSwgInN0cm9rZSI6IHRydWUsICJ3ZWlnaHQiOiAzfQogICAgICAgICAgICApLmFkZFRvKG1hcF81MGE1MjdlMTc2Y2I0MDJjODJkYjc3YzNjMWU0MjcxOSk7CiAgICAgICAgCiAgICAKICAgICAgICB2YXIgcG9wdXBfODJiNDU1ZmE4YjliNDFkNzhjNjg3ZWVmNmFjYzk1YjcgPSBMLnBvcHVwKHsibWF4V2lkdGgiOiAiMTAwJSJ9KTsKCiAgICAgICAgCiAgICAgICAgICAgIHZhciBodG1sX2M2ZjMyN2I4OTFkOTQ5NDE5MmU4MTM0Mjk2YmJjNjBhID0gJChgPGRpdiBpZD0iaHRtbF9jNmYzMjdiODkxZDk0OTQxOTJlODEzNDI5NmJiYzYwYSIgc3R5bGU9IndpZHRoOiAxMDAuMCU7IGhlaWdodDogMTAwLjAlOyI+RG93bnRvd24gVG9yb250bzwvZGl2PmApWzBdOwogICAgICAgICAgICBwb3B1cF84MmI0NTVmYThiOWI0MWQ3OGM2ODdlZWY2YWNjOTViNy5zZXRDb250ZW50KGh0bWxfYzZmMzI3Yjg5MWQ5NDk0MTkyZTgxMzQyOTZiYmM2MGEpOwogICAgICAgIAoKICAgICAgICBjaXJjbGVfbWFya2VyXzAxODEyZGI0ZTFmMzQzZjc5NGRiOWIxNDRlOTY4MTUzLmJpbmRQb3B1cChwb3B1cF84MmI0NTVmYThiOWI0MWQ3OGM2ODdlZWY2YWNjOTViNykKICAgICAgICA7CgogICAgICAgIAogICAgCiAgICAKICAgICAgICAgICAgdmFyIGNpcmNsZV9tYXJrZXJfYWZkYmFiMTVmOTEwNDc2ZWFiMmMxNDc5MTk0NWRjNGYgPSBMLmNpcmNsZU1hcmtlcigKICAgICAgICAgICAgICAgIFs0My42NTE0OTM5LCAtNzkuMzc1NDE3OV0sCiAgICAgICAgICAgICAgICB7ImJ1YmJsaW5nTW91c2VFdmVudHMiOiB0cnVlLCAiY29sb3IiOiAiYmxhY2siLCAiZGFzaEFycmF5IjogbnVsbCwgImRhc2hPZmZzZXQiOiBudWxsLCAiZmlsbCI6IHRydWUsICJmaWxsQ29sb3IiOiAiZ3JlZW4iLCAiZmlsbE9wYWNpdHkiOiAwLjcsICJmaWxsUnVsZSI6ICJldmVub2RkIiwgImxpbmVDYXAiOiAicm91bmQiLCAibGluZUpvaW4iOiAicm91bmQiLCAib3BhY2l0eSI6IDEuMCwgInJhZGl1cyI6IDUsICJzdHJva2UiOiB0cnVlLCAid2VpZ2h0IjogM30KICAgICAgICAgICAgKS5hZGRUbyhtYXBfNTBhNTI3ZTE3NmNiNDAyYzgyZGI3N2MzYzFlNDI3MTkpOwogICAgICAgIAogICAgCiAgICAgICAgdmFyIHBvcHVwXzgyN2YyNTFkODU4NDRmOGFhOTFhNjE5NTIzMzM0MTYxID0gTC5wb3B1cCh7Im1heFdpZHRoIjogIjEwMCUifSk7CgogICAgICAgIAogICAgICAgICAgICB2YXIgaHRtbF82Mzg5MGQ0MmZlYWM0NzVkYmI4NDY3YmJkNmY2ZjM0YyA9ICQoYDxkaXYgaWQ9Imh0bWxfNjM4OTBkNDJmZWFjNDc1ZGJiODQ2N2JiZDZmNmYzNGMiIHN0eWxlPSJ3aWR0aDogMTAwLjAlOyBoZWlnaHQ6IDEwMC4wJTsiPkRvd250b3duIFRvcm9udG88L2Rpdj5gKVswXTsKICAgICAgICAgICAgcG9wdXBfODI3ZjI1MWQ4NTg0NGY4YWE5MWE2MTk1MjMzMzQxNjEuc2V0Q29udGVudChodG1sXzYzODkwZDQyZmVhYzQ3NWRiYjg0NjdiYmQ2ZjZmMzRjKTsKICAgICAgICAKCiAgICAgICAgY2lyY2xlX21hcmtlcl9hZmRiYWIxNWY5MTA0NzZlYWIyYzE0NzkxOTQ1ZGM0Zi5iaW5kUG9wdXAocG9wdXBfODI3ZjI1MWQ4NTg0NGY4YWE5MWE2MTk1MjMzMzQxNjEpCiAgICAgICAgOwoKICAgICAgICAKICAgIAogICAgCiAgICAgICAgICAgIHZhciBjaXJjbGVfbWFya2VyX2I3YjMwN2RlMGVhZDQyZDQ5OTczMTQxY2UyZGJjNWQ1ID0gTC5jaXJjbGVNYXJrZXIoCiAgICAgICAgICAgICAgICBbNDMuNjQ0NzcwNzk5OTk5OTk2LCAtNzkuMzczMzA2NF0sCiAgICAgICAgICAgICAgICB7ImJ1YmJsaW5nTW91c2VFdmVudHMiOiB0cnVlLCAiY29sb3IiOiAiYmxhY2siLCAiZGFzaEFycmF5IjogbnVsbCwgImRhc2hPZmZzZXQiOiBudWxsLCAiZmlsbCI6IHRydWUsICJmaWxsQ29sb3IiOiAiZ3JlZW4iLCAiZmlsbE9wYWNpdHkiOiAwLjcsICJmaWxsUnVsZSI6ICJldmVub2RkIiwgImxpbmVDYXAiOiAicm91bmQiLCAibGluZUpvaW4iOiAicm91bmQiLCAib3BhY2l0eSI6IDEuMCwgInJhZGl1cyI6IDUsICJzdHJva2UiOiB0cnVlLCAid2VpZ2h0IjogM30KICAgICAgICAgICAgKS5hZGRUbyhtYXBfNTBhNTI3ZTE3NmNiNDAyYzgyZGI3N2MzYzFlNDI3MTkpOwogICAgICAgIAogICAgCiAgICAgICAgdmFyIHBvcHVwXzBiY2ZlNDliNDU3ZTQzOThhN2NjNjhjZWU0NjFjZDQ3ID0gTC5wb3B1cCh7Im1heFdpZHRoIjogIjEwMCUifSk7CgogICAgICAgIAogICAgICAgICAgICB2YXIgaHRtbF9mM2NjMTlmZDU2NDQ0MWEzYjE4MzY4ODIyOWFjMmY5NCA9ICQoYDxkaXYgaWQ9Imh0bWxfZjNjYzE5ZmQ1NjQ0NDFhM2IxODM2ODgyMjlhYzJmOTQiIHN0eWxlPSJ3aWR0aDogMTAwLjAlOyBoZWlnaHQ6IDEwMC4wJTsiPkRvd250b3duIFRvcm9udG88L2Rpdj5gKVswXTsKICAgICAgICAgICAgcG9wdXBfMGJjZmU0OWI0NTdlNDM5OGE3Y2M2OGNlZTQ2MWNkNDcuc2V0Q29udGVudChodG1sX2YzY2MxOWZkNTY0NDQxYTNiMTgzNjg4MjI5YWMyZjk0KTsKICAgICAgICAKCiAgICAgICAgY2lyY2xlX21hcmtlcl9iN2IzMDdkZTBlYWQ0MmQ0OTk3MzE0MWNlMmRiYzVkNS5iaW5kUG9wdXAocG9wdXBfMGJjZmU0OWI0NTdlNDM5OGE3Y2M2OGNlZTQ2MWNkNDcpCiAgICAgICAgOwoKICAgICAgICAKICAgIAogICAgCiAgICAgICAgICAgIHZhciBjaXJjbGVfbWFya2VyXzEyMDRmNmZjZmMyOTQ3ZDI5NWY2NmExMzVjMzliMDMwID0gTC5jaXJjbGVNYXJrZXIoCiAgICAgICAgICAgICAgICBbNDMuNjU3OTUyNCwgLTc5LjM4NzM4MjZdLAogICAgICAgICAgICAgICAgeyJidWJibGluZ01vdXNlRXZlbnRzIjogdHJ1ZSwgImNvbG9yIjogImJsYWNrIiwgImRhc2hBcnJheSI6IG51bGwsICJkYXNoT2Zmc2V0IjogbnVsbCwgImZpbGwiOiB0cnVlLCAiZmlsbENvbG9yIjogImdyZWVuIiwgImZpbGxPcGFjaXR5IjogMC43LCAiZmlsbFJ1bGUiOiAiZXZlbm9kZCIsICJsaW5lQ2FwIjogInJvdW5kIiwgImxpbmVKb2luIjogInJvdW5kIiwgIm9wYWNpdHkiOiAxLjAsICJyYWRpdXMiOiA1LCAic3Ryb2tlIjogdHJ1ZSwgIndlaWdodCI6IDN9CiAgICAgICAgICAgICkuYWRkVG8obWFwXzUwYTUyN2UxNzZjYjQwMmM4MmRiNzdjM2MxZTQyNzE5KTsKICAgICAgICAKICAgIAogICAgICAgIHZhciBwb3B1cF8zNjQzOWNkMTc2MWM0NTFmODJhNzhkMDgyZTExZGI2OCA9IEwucG9wdXAoeyJtYXhXaWR0aCI6ICIxMDAlIn0pOwoKICAgICAgICAKICAgICAgICAgICAgdmFyIGh0bWxfYjgzZWIxMjkxYjM2NDNiMGI2ZTk0MDZiZjUyZDUxYTQgPSAkKGA8ZGl2IGlkPSJodG1sX2I4M2ViMTI5MWIzNjQzYjBiNmU5NDA2YmY1MmQ1MWE0IiBzdHlsZT0id2lkdGg6IDEwMC4wJTsgaGVpZ2h0OiAxMDAuMCU7Ij5Eb3dudG93biBUb3JvbnRvPC9kaXY+YClbMF07CiAgICAgICAgICAgIHBvcHVwXzM2NDM5Y2QxNzYxYzQ1MWY4MmE3OGQwODJlMTFkYjY4LnNldENvbnRlbnQoaHRtbF9iODNlYjEyOTFiMzY0M2IwYjZlOTQwNmJmNTJkNTFhNCk7CiAgICAgICAgCgogICAgICAgIGNpcmNsZV9tYXJrZXJfMTIwNGY2ZmNmYzI5NDdkMjk1ZjY2YTEzNWMzOWIwMzAuYmluZFBvcHVwKHBvcHVwXzM2NDM5Y2QxNzYxYzQ1MWY4MmE3OGQwODJlMTFkYjY4KQogICAgICAgIDsKCiAgICAgICAgCiAgICAKICAgIAogICAgICAgICAgICB2YXIgY2lyY2xlX21hcmtlcl8zYmYyYzQxZDVjZGU0ZGQ5YTZjM2NjYzBiODdiN2Y4YSA9IEwuY2lyY2xlTWFya2VyKAogICAgICAgICAgICAgICAgWzQzLjY1MDU3MTIwMDAwMDAxLCAtNzkuMzg0NTY3NV0sCiAgICAgICAgICAgICAgICB7ImJ1YmJsaW5nTW91c2VFdmVudHMiOiB0cnVlLCAiY29sb3IiOiAiYmxhY2siLCAiZGFzaEFycmF5IjogbnVsbCwgImRhc2hPZmZzZXQiOiBudWxsLCAiZmlsbCI6IHRydWUsICJmaWxsQ29sb3IiOiAiZ3JlZW4iLCAiZmlsbE9wYWNpdHkiOiAwLjcsICJmaWxsUnVsZSI6ICJldmVub2RkIiwgImxpbmVDYXAiOiAicm91bmQiLCAibGluZUpvaW4iOiAicm91bmQiLCAib3BhY2l0eSI6IDEuMCwgInJhZGl1cyI6IDUsICJzdHJva2UiOiB0cnVlLCAid2VpZ2h0IjogM30KICAgICAgICAgICAgKS5hZGRUbyhtYXBfNTBhNTI3ZTE3NmNiNDAyYzgyZGI3N2MzYzFlNDI3MTkpOwogICAgICAgIAogICAgCiAgICAgICAgdmFyIHBvcHVwX2M4Mjk2Y2NlNDUzYzQ4YjliZGI5MzU2ZjQxYzhiYTRiID0gTC5wb3B1cCh7Im1heFdpZHRoIjogIjEwMCUifSk7CgogICAgICAgIAogICAgICAgICAgICB2YXIgaHRtbF80YzMwMmIzYzNiYzY0ODg2YmUzNjg3ZTMxZDcyNDY4MiA9ICQoYDxkaXYgaWQ9Imh0bWxfNGMzMDJiM2MzYmM2NDg4NmJlMzY4N2UzMWQ3MjQ2ODIiIHN0eWxlPSJ3aWR0aDogMTAwLjAlOyBoZWlnaHQ6IDEwMC4wJTsiPkRvd250b3duIFRvcm9udG88L2Rpdj5gKVswXTsKICAgICAgICAgICAgcG9wdXBfYzgyOTZjY2U0NTNjNDhiOWJkYjkzNTZmNDFjOGJhNGIuc2V0Q29udGVudChodG1sXzRjMzAyYjNjM2JjNjQ4ODZiZTM2ODdlMzFkNzI0NjgyKTsKICAgICAgICAKCiAgICAgICAgY2lyY2xlX21hcmtlcl8zYmYyYzQxZDVjZGU0ZGQ5YTZjM2NjYzBiODdiN2Y4YS5iaW5kUG9wdXAocG9wdXBfYzgyOTZjY2U0NTNjNDhiOWJkYjkzNTZmNDFjOGJhNGIpCiAgICAgICAgOwoKICAgICAgICAKICAgIAogICAgCiAgICAgICAgICAgIHZhciBjaXJjbGVfbWFya2VyXzEyZmNmZDMwYTM5OTQ0MGY5Yjk2NGE3MzgzZjc1YzQ2ID0gTC5jaXJjbGVNYXJrZXIoCiAgICAgICAgICAgICAgICBbNDMuNjQwODE1NywgLTc5LjM4MTc1MjI5OTk5OTk5XSwKICAgICAgICAgICAgICAgIHsiYnViYmxpbmdNb3VzZUV2ZW50cyI6IHRydWUsICJjb2xvciI6ICJibGFjayIsICJkYXNoQXJyYXkiOiBudWxsLCAiZGFzaE9mZnNldCI6IG51bGwsICJmaWxsIjogdHJ1ZSwgImZpbGxDb2xvciI6ICJncmVlbiIsICJmaWxsT3BhY2l0eSI6IDAuNywgImZpbGxSdWxlIjogImV2ZW5vZGQiLCAibGluZUNhcCI6ICJyb3VuZCIsICJsaW5lSm9pbiI6ICJyb3VuZCIsICJvcGFjaXR5IjogMS4wLCAicmFkaXVzIjogNSwgInN0cm9rZSI6IHRydWUsICJ3ZWlnaHQiOiAzfQogICAgICAgICAgICApLmFkZFRvKG1hcF81MGE1MjdlMTc2Y2I0MDJjODJkYjc3YzNjMWU0MjcxOSk7CiAgICAgICAgCiAgICAKICAgICAgICB2YXIgcG9wdXBfNzRlZWZmOTE5OGIyNGQ5YTkwYmJlYjU1NTFmYzIxZmYgPSBMLnBvcHVwKHsibWF4V2lkdGgiOiAiMTAwJSJ9KTsKCiAgICAgICAgCiAgICAgICAgICAgIHZhciBodG1sXzBkNzc4ZDIyMzIyZjRlZTVhNTc2N2U0ZmExYzI3NzMzID0gJChgPGRpdiBpZD0iaHRtbF8wZDc3OGQyMjMyMmY0ZWU1YTU3NjdlNGZhMWMyNzczMyIgc3R5bGU9IndpZHRoOiAxMDAuMCU7IGhlaWdodDogMTAwLjAlOyI+RG93bnRvd24gVG9yb250bzwvZGl2PmApWzBdOwogICAgICAgICAgICBwb3B1cF83NGVlZmY5MTk4YjI0ZDlhOTBiYmViNTU1MWZjMjFmZi5zZXRDb250ZW50KGh0bWxfMGQ3NzhkMjIzMjJmNGVlNWE1NzY3ZTRmYTFjMjc3MzMpOwogICAgICAgIAoKICAgICAgICBjaXJjbGVfbWFya2VyXzEyZmNmZDMwYTM5OTQ0MGY5Yjk2NGE3MzgzZjc1YzQ2LmJpbmRQb3B1cChwb3B1cF83NGVlZmY5MTk4YjI0ZDlhOTBiYmViNTU1MWZjMjFmZikKICAgICAgICA7CgogICAgICAgIAogICAgCiAgICAKICAgICAgICAgICAgdmFyIGNpcmNsZV9tYXJrZXJfYTQ3ZDk3OTYxNjM1NDQzOWE1ZWJiODQ5MWU4NmVlMmUgPSBMLmNpcmNsZU1hcmtlcigKICAgICAgICAgICAgICAgIFs0My42NDcxNzY4LCAtNzkuMzgxNTc2NDAwMDAwMDFdLAogICAgICAgICAgICAgICAgeyJidWJibGluZ01vdXNlRXZlbnRzIjogdHJ1ZSwgImNvbG9yIjogImJsYWNrIiwgImRhc2hBcnJheSI6IG51bGwsICJkYXNoT2Zmc2V0IjogbnVsbCwgImZpbGwiOiB0cnVlLCAiZmlsbENvbG9yIjogImdyZWVuIiwgImZpbGxPcGFjaXR5IjogMC43LCAiZmlsbFJ1bGUiOiAiZXZlbm9kZCIsICJsaW5lQ2FwIjogInJvdW5kIiwgImxpbmVKb2luIjogInJvdW5kIiwgIm9wYWNpdHkiOiAxLjAsICJyYWRpdXMiOiA1LCAic3Ryb2tlIjogdHJ1ZSwgIndlaWdodCI6IDN9CiAgICAgICAgICAgICkuYWRkVG8obWFwXzUwYTUyN2UxNzZjYjQwMmM4MmRiNzdjM2MxZTQyNzE5KTsKICAgICAgICAKICAgIAogICAgICAgIHZhciBwb3B1cF9mZTBjMjRkOTE1NDU0NTI1OTk3YjViYjg5ZTVmNzM3NiA9IEwucG9wdXAoeyJtYXhXaWR0aCI6ICIxMDAlIn0pOwoKICAgICAgICAKICAgICAgICAgICAgdmFyIGh0bWxfNmU1YzFjZDQyYmI1NDdhMWIyODQ5YzE5NjBkZGQyZDAgPSAkKGA8ZGl2IGlkPSJodG1sXzZlNWMxY2Q0MmJiNTQ3YTFiMjg0OWMxOTYwZGRkMmQwIiBzdHlsZT0id2lkdGg6IDEwMC4wJTsgaGVpZ2h0OiAxMDAuMCU7Ij5Eb3dudG93biBUb3JvbnRvPC9kaXY+YClbMF07CiAgICAgICAgICAgIHBvcHVwX2ZlMGMyNGQ5MTU0NTQ1MjU5OTdiNWJiODllNWY3Mzc2LnNldENvbnRlbnQoaHRtbF82ZTVjMWNkNDJiYjU0N2ExYjI4NDljMTk2MGRkZDJkMCk7CiAgICAgICAgCgogICAgICAgIGNpcmNsZV9tYXJrZXJfYTQ3ZDk3OTYxNjM1NDQzOWE1ZWJiODQ5MWU4NmVlMmUuYmluZFBvcHVwKHBvcHVwX2ZlMGMyNGQ5MTU0NTQ1MjU5OTdiNWJiODllNWY3Mzc2KQogICAgICAgIDsKCiAgICAgICAgCiAgICAKICAgIAogICAgICAgICAgICB2YXIgY2lyY2xlX21hcmtlcl81NGM0YmRlNzE3NzA0MjJlODRiZjM1NjkwNzk3MmMxZSA9IEwuY2lyY2xlTWFya2VyKAogICAgICAgICAgICAgICAgWzQzLjY0ODE5ODUsIC03OS4zNzk4MTY5MDAwMDAwMV0sCiAgICAgICAgICAgICAgICB7ImJ1YmJsaW5nTW91c2VFdmVudHMiOiB0cnVlLCAiY29sb3IiOiAiYmxhY2siLCAiZGFzaEFycmF5IjogbnVsbCwgImRhc2hPZmZzZXQiOiBudWxsLCAiZmlsbCI6IHRydWUsICJmaWxsQ29sb3IiOiAiZ3JlZW4iLCAiZmlsbE9wYWNpdHkiOiAwLjcsICJmaWxsUnVsZSI6ICJldmVub2RkIiwgImxpbmVDYXAiOiAicm91bmQiLCAibGluZUpvaW4iOiAicm91bmQiLCAib3BhY2l0eSI6IDEuMCwgInJhZGl1cyI6IDUsICJzdHJva2UiOiB0cnVlLCAid2VpZ2h0IjogM30KICAgICAgICAgICAgKS5hZGRUbyhtYXBfNTBhNTI3ZTE3NmNiNDAyYzgyZGI3N2MzYzFlNDI3MTkpOwogICAgICAgIAogICAgCiAgICAgICAgdmFyIHBvcHVwXzdiZWE0ZDRkMTA4NDRiMTY5OWU0NDI4MjhlMGY1Mzk4ID0gTC5wb3B1cCh7Im1heFdpZHRoIjogIjEwMCUifSk7CgogICAgICAgIAogICAgICAgICAgICB2YXIgaHRtbF9jZmM3OWRlZDRmNjg0NWQyOWYzNDUyYTM2Mzg5OGE0OSA9ICQoYDxkaXYgaWQ9Imh0bWxfY2ZjNzlkZWQ0ZjY4NDVkMjlmMzQ1MmEzNjM4OThhNDkiIHN0eWxlPSJ3aWR0aDogMTAwLjAlOyBoZWlnaHQ6IDEwMC4wJTsiPkRvd250b3duIFRvcm9udG88L2Rpdj5gKVswXTsKICAgICAgICAgICAgcG9wdXBfN2JlYTRkNGQxMDg0NGIxNjk5ZTQ0MjgyOGUwZjUzOTguc2V0Q29udGVudChodG1sX2NmYzc5ZGVkNGY2ODQ1ZDI5ZjM0NTJhMzYzODk4YTQ5KTsKICAgICAgICAKCiAgICAgICAgY2lyY2xlX21hcmtlcl81NGM0YmRlNzE3NzA0MjJlODRiZjM1NjkwNzk3MmMxZS5iaW5kUG9wdXAocG9wdXBfN2JlYTRkNGQxMDg0NGIxNjk5ZTQ0MjgyOGUwZjUzOTgpCiAgICAgICAgOwoKICAgICAgICAKICAgIAogICAgCiAgICAgICAgICAgIHZhciBjaXJjbGVfbWFya2VyX2NiNjVhOGE4NjRmMDRkYzg4NmViOWViNWM4MzcwYTllID0gTC5jaXJjbGVNYXJrZXIoCiAgICAgICAgICAgICAgICBbNDMuNzExNjk0OCwgLTc5LjQxNjkzNTU5OTk5OTk5XSwKICAgICAgICAgICAgICAgIHsiYnViYmxpbmdNb3VzZUV2ZW50cyI6IHRydWUsICJjb2xvciI6ICJibGFjayIsICJkYXNoQXJyYXkiOiBudWxsLCAiZGFzaE9mZnNldCI6IG51bGwsICJmaWxsIjogdHJ1ZSwgImZpbGxDb2xvciI6ICJibHVlIiwgImZpbGxPcGFjaXR5IjogMC43LCAiZmlsbFJ1bGUiOiAiZXZlbm9kZCIsICJsaW5lQ2FwIjogInJvdW5kIiwgImxpbmVKb2luIjogInJvdW5kIiwgIm9wYWNpdHkiOiAxLjAsICJyYWRpdXMiOiA1LCAic3Ryb2tlIjogdHJ1ZSwgIndlaWdodCI6IDN9CiAgICAgICAgICAgICkuYWRkVG8obWFwXzUwYTUyN2UxNzZjYjQwMmM4MmRiNzdjM2MxZTQyNzE5KTsKICAgICAgICAKICAgIAogICAgICAgIHZhciBwb3B1cF9kMjU3ZTUyNTkwZmI0MGNkOWQxNDQ0MjYzODRlMDlmMiA9IEwucG9wdXAoeyJtYXhXaWR0aCI6ICIxMDAlIn0pOwoKICAgICAgICAKICAgICAgICAgICAgdmFyIGh0bWxfNTg1OTQ2ZTA5NDRiNGIxOTlkOGUzMzFiNDhiMzFhMTAgPSAkKGA8ZGl2IGlkPSJodG1sXzU4NTk0NmUwOTQ0YjRiMTk5ZDhlMzMxYjQ4YjMxYTEwIiBzdHlsZT0id2lkdGg6IDEwMC4wJTsgaGVpZ2h0OiAxMDAuMCU7Ij5DZW50cmFsIFRvcm9udG88L2Rpdj5gKVswXTsKICAgICAgICAgICAgcG9wdXBfZDI1N2U1MjU5MGZiNDBjZDlkMTQ0NDI2Mzg0ZTA5ZjIuc2V0Q29udGVudChodG1sXzU4NTk0NmUwOTQ0YjRiMTk5ZDhlMzMxYjQ4YjMxYTEwKTsKICAgICAgICAKCiAgICAgICAgY2lyY2xlX21hcmtlcl9jYjY1YThhODY0ZjA0ZGM4ODZlYjllYjVjODM3MGE5ZS5iaW5kUG9wdXAocG9wdXBfZDI1N2U1MjU5MGZiNDBjZDlkMTQ0NDI2Mzg0ZTA5ZjIpCiAgICAgICAgOwoKICAgICAgICAKICAgIAogICAgCiAgICAgICAgICAgIHZhciBjaXJjbGVfbWFya2VyXzJjZTZmYjQ0MTA2ZjRhMmRhYTkxZjQ1M2VhMzQ0YzRhID0gTC5jaXJjbGVNYXJrZXIoCiAgICAgICAgICAgICAgICBbNDMuNjk2OTQ3NiwgLTc5LjQxMTMwNzIwMDAwMDAxXSwKICAgICAgICAgICAgICAgIHsiYnViYmxpbmdNb3VzZUV2ZW50cyI6IHRydWUsICJjb2xvciI6ICJibGFjayIsICJkYXNoQXJyYXkiOiBudWxsLCAiZGFzaE9mZnNldCI6IG51bGwsICJmaWxsIjogdHJ1ZSwgImZpbGxDb2xvciI6ICJibHVlIiwgImZpbGxPcGFjaXR5IjogMC43LCAiZmlsbFJ1bGUiOiAiZXZlbm9kZCIsICJsaW5lQ2FwIjogInJvdW5kIiwgImxpbmVKb2luIjogInJvdW5kIiwgIm9wYWNpdHkiOiAxLjAsICJyYWRpdXMiOiA1LCAic3Ryb2tlIjogdHJ1ZSwgIndlaWdodCI6IDN9CiAgICAgICAgICAgICkuYWRkVG8obWFwXzUwYTUyN2UxNzZjYjQwMmM4MmRiNzdjM2MxZTQyNzE5KTsKICAgICAgICAKICAgIAogICAgICAgIHZhciBwb3B1cF9lMTkxYjkzYWQ4ZDA0MDcxYTQ5ZTU4NzE5NDQ3NjRiMCA9IEwucG9wdXAoeyJtYXhXaWR0aCI6ICIxMDAlIn0pOwoKICAgICAgICAKICAgICAgICAgICAgdmFyIGh0bWxfODczZTdjYTgyZTFmNGQwZGI0MDFmZTY0MTEzNjQwNTEgPSAkKGA8ZGl2IGlkPSJodG1sXzg3M2U3Y2E4MmUxZjRkMGRiNDAxZmU2NDExMzY0MDUxIiBzdHlsZT0id2lkdGg6IDEwMC4wJTsgaGVpZ2h0OiAxMDAuMCU7Ij5DZW50cmFsIFRvcm9udG88L2Rpdj5gKVswXTsKICAgICAgICAgICAgcG9wdXBfZTE5MWI5M2FkOGQwNDA3MWE0OWU1ODcxOTQ0NzY0YjAuc2V0Q29udGVudChodG1sXzg3M2U3Y2E4MmUxZjRkMGRiNDAxZmU2NDExMzY0MDUxKTsKICAgICAgICAKCiAgICAgICAgY2lyY2xlX21hcmtlcl8yY2U2ZmI0NDEwNmY0YTJkYWE5MWY0NTNlYTM0NGM0YS5iaW5kUG9wdXAocG9wdXBfZTE5MWI5M2FkOGQwNDA3MWE0OWU1ODcxOTQ0NzY0YjApCiAgICAgICAgOwoKICAgICAgICAKICAgIAogICAgCiAgICAgICAgICAgIHZhciBjaXJjbGVfbWFya2VyX2ZjZjUyMWUyYWJlOTRlODBiOGQ1MGEyZjkwYjcwZDQ0ID0gTC5jaXJjbGVNYXJrZXIoCiAgICAgICAgICAgICAgICBbNDMuNjcyNzA5NywgLTc5LjQwNTY3ODQwMDAwMDAxXSwKICAgICAgICAgICAgICAgIHsiYnViYmxpbmdNb3VzZUV2ZW50cyI6IHRydWUsICJjb2xvciI6ICJibGFjayIsICJkYXNoQXJyYXkiOiBudWxsLCAiZGFzaE9mZnNldCI6IG51bGwsICJmaWxsIjogdHJ1ZSwgImZpbGxDb2xvciI6ICJncmVlbiIsICJmaWxsT3BhY2l0eSI6IDAuNywgImZpbGxSdWxlIjogImV2ZW5vZGQiLCAibGluZUNhcCI6ICJyb3VuZCIsICJsaW5lSm9pbiI6ICJyb3VuZCIsICJvcGFjaXR5IjogMS4wLCAicmFkaXVzIjogNSwgInN0cm9rZSI6IHRydWUsICJ3ZWlnaHQiOiAzfQogICAgICAgICAgICApLmFkZFRvKG1hcF81MGE1MjdlMTc2Y2I0MDJjODJkYjc3YzNjMWU0MjcxOSk7CiAgICAgICAgCiAgICAKICAgICAgICB2YXIgcG9wdXBfOTk0NmQ4NWM2ZGE5NDg5NTg1NDhhN2ViNWNhZjQyYTIgPSBMLnBvcHVwKHsibWF4V2lkdGgiOiAiMTAwJSJ9KTsKCiAgICAgICAgCiAgICAgICAgICAgIHZhciBodG1sX2ViODIzNjA5ZmMzZDRlNDlhYzBkYTM5MDcyYjFmNzExID0gJChgPGRpdiBpZD0iaHRtbF9lYjgyMzYwOWZjM2Q0ZTQ5YWMwZGEzOTA3MmIxZjcxMSIgc3R5bGU9IndpZHRoOiAxMDAuMCU7IGhlaWdodDogMTAwLjAlOyI+Q2VudHJhbCBUb3JvbnRvPC9kaXY+YClbMF07CiAgICAgICAgICAgIHBvcHVwXzk5NDZkODVjNmRhOTQ4OTU4NTQ4YTdlYjVjYWY0MmEyLnNldENvbnRlbnQoaHRtbF9lYjgyMzYwOWZjM2Q0ZTQ5YWMwZGEzOTA3MmIxZjcxMSk7CiAgICAgICAgCgogICAgICAgIGNpcmNsZV9tYXJrZXJfZmNmNTIxZTJhYmU5NGU4MGI4ZDUwYTJmOTBiNzBkNDQuYmluZFBvcHVwKHBvcHVwXzk5NDZkODVjNmRhOTQ4OTU4NTQ4YTdlYjVjYWY0MmEyKQogICAgICAgIDsKCiAgICAgICAgCiAgICAKICAgIAogICAgICAgICAgICB2YXIgY2lyY2xlX21hcmtlcl9jNjY4YzQyZDE1NTE0ZmRlOTBjMjdlOTdkZGJjNzE2MSA9IEwuY2lyY2xlTWFya2VyKAogICAgICAgICAgICAgICAgWzQzLjY2MjY5NTYsIC03OS40MDAwNDkzXSwKICAgICAgICAgICAgICAgIHsiYnViYmxpbmdNb3VzZUV2ZW50cyI6IHRydWUsICJjb2xvciI6ICJibGFjayIsICJkYXNoQXJyYXkiOiBudWxsLCAiZGFzaE9mZnNldCI6IG51bGwsICJmaWxsIjogdHJ1ZSwgImZpbGxDb2xvciI6ICJncmVlbiIsICJmaWxsT3BhY2l0eSI6IDAuNywgImZpbGxSdWxlIjogImV2ZW5vZGQiLCAibGluZUNhcCI6ICJyb3VuZCIsICJsaW5lSm9pbiI6ICJyb3VuZCIsICJvcGFjaXR5IjogMS4wLCAicmFkaXVzIjogNSwgInN0cm9rZSI6IHRydWUsICJ3ZWlnaHQiOiAzfQogICAgICAgICAgICApLmFkZFRvKG1hcF81MGE1MjdlMTc2Y2I0MDJjODJkYjc3YzNjMWU0MjcxOSk7CiAgICAgICAgCiAgICAKICAgICAgICB2YXIgcG9wdXBfZGIxOGFiMWY0YzQwNDIzNjkwYTZjZGVlYjlkMGQ4ZjMgPSBMLnBvcHVwKHsibWF4V2lkdGgiOiAiMTAwJSJ9KTsKCiAgICAgICAgCiAgICAgICAgICAgIHZhciBodG1sX2E4YmRkZTVjZGRjYjQwZmQ5MTIxZmEyZjAxYzcxMmJlID0gJChgPGRpdiBpZD0iaHRtbF9hOGJkZGU1Y2RkY2I0MGZkOTEyMWZhMmYwMWM3MTJiZSIgc3R5bGU9IndpZHRoOiAxMDAuMCU7IGhlaWdodDogMTAwLjAlOyI+RG93bnRvd24gVG9yb250bzwvZGl2PmApWzBdOwogICAgICAgICAgICBwb3B1cF9kYjE4YWIxZjRjNDA0MjM2OTBhNmNkZWViOWQwZDhmMy5zZXRDb250ZW50KGh0bWxfYThiZGRlNWNkZGNiNDBmZDkxMjFmYTJmMDFjNzEyYmUpOwogICAgICAgIAoKICAgICAgICBjaXJjbGVfbWFya2VyX2M2NjhjNDJkMTU1MTRmZGU5MGMyN2U5N2RkYmM3MTYxLmJpbmRQb3B1cChwb3B1cF9kYjE4YWIxZjRjNDA0MjM2OTBhNmNkZWViOWQwZDhmMykKICAgICAgICA7CgogICAgICAgIAogICAgCiAgICAKICAgICAgICAgICAgdmFyIGNpcmNsZV9tYXJrZXJfYWRmY2EzZDQ1YTkyNGY4OTg2ZTM2ZWNiOTcyNDUyYWYgPSBMLmNpcmNsZU1hcmtlcigKICAgICAgICAgICAgICAgIFs0My42NTMyMDU3LCAtNzkuNDAwMDQ5M10sCiAgICAgICAgICAgICAgICB7ImJ1YmJsaW5nTW91c2VFdmVudHMiOiB0cnVlLCAiY29sb3IiOiAiYmxhY2siLCAiZGFzaEFycmF5IjogbnVsbCwgImRhc2hPZmZzZXQiOiBudWxsLCAiZmlsbCI6IHRydWUsICJmaWxsQ29sb3IiOiAiZ3JlZW4iLCAiZmlsbE9wYWNpdHkiOiAwLjcsICJmaWxsUnVsZSI6ICJldmVub2RkIiwgImxpbmVDYXAiOiAicm91bmQiLCAibGluZUpvaW4iOiAicm91bmQiLCAib3BhY2l0eSI6IDEuMCwgInJhZGl1cyI6IDUsICJzdHJva2UiOiB0cnVlLCAid2VpZ2h0IjogM30KICAgICAgICAgICAgKS5hZGRUbyhtYXBfNTBhNTI3ZTE3NmNiNDAyYzgyZGI3N2MzYzFlNDI3MTkpOwogICAgICAgIAogICAgCiAgICAgICAgdmFyIHBvcHVwX2FhMjUyMmZkZTZmNzQ3YWE5ODM2MjNjZmI3ZDQ0MzlmID0gTC5wb3B1cCh7Im1heFdpZHRoIjogIjEwMCUifSk7CgogICAgICAgIAogICAgICAgICAgICB2YXIgaHRtbF81NzEwZGQzZGI2NWI0MjZkYjAyMGFkYTI4Njg0OTM5YyA9ICQoYDxkaXYgaWQ9Imh0bWxfNTcxMGRkM2RiNjViNDI2ZGIwMjBhZGEyODY4NDkzOWMiIHN0eWxlPSJ3aWR0aDogMTAwLjAlOyBoZWlnaHQ6IDEwMC4wJTsiPkRvd250b3duIFRvcm9udG88L2Rpdj5gKVswXTsKICAgICAgICAgICAgcG9wdXBfYWEyNTIyZmRlNmY3NDdhYTk4MzYyM2NmYjdkNDQzOWYuc2V0Q29udGVudChodG1sXzU3MTBkZDNkYjY1YjQyNmRiMDIwYWRhMjg2ODQ5MzljKTsKICAgICAgICAKCiAgICAgICAgY2lyY2xlX21hcmtlcl9hZGZjYTNkNDVhOTI0Zjg5ODZlMzZlY2I5NzI0NTJhZi5iaW5kUG9wdXAocG9wdXBfYWEyNTIyZmRlNmY3NDdhYTk4MzYyM2NmYjdkNDQzOWYpCiAgICAgICAgOwoKICAgICAgICAKICAgIAogICAgCiAgICAgICAgICAgIHZhciBjaXJjbGVfbWFya2VyXzZmYzdhOTdhZmZjZDRjYWFhMDljYmMxMDhjYjA5YTIyID0gTC5jaXJjbGVNYXJrZXIoCiAgICAgICAgICAgICAgICBbNDMuNjI4OTQ2NywgLTc5LjM5NDQxOTldLAogICAgICAgICAgICAgICAgeyJidWJibGluZ01vdXNlRXZlbnRzIjogdHJ1ZSwgImNvbG9yIjogImJsYWNrIiwgImRhc2hBcnJheSI6IG51bGwsICJkYXNoT2Zmc2V0IjogbnVsbCwgImZpbGwiOiB0cnVlLCAiZmlsbENvbG9yIjogImdyZWVuIiwgImZpbGxPcGFjaXR5IjogMC43LCAiZmlsbFJ1bGUiOiAiZXZlbm9kZCIsICJsaW5lQ2FwIjogInJvdW5kIiwgImxpbmVKb2luIjogInJvdW5kIiwgIm9wYWNpdHkiOiAxLjAsICJyYWRpdXMiOiA1LCAic3Ryb2tlIjogdHJ1ZSwgIndlaWdodCI6IDN9CiAgICAgICAgICAgICkuYWRkVG8obWFwXzUwYTUyN2UxNzZjYjQwMmM4MmRiNzdjM2MxZTQyNzE5KTsKICAgICAgICAKICAgIAogICAgICAgIHZhciBwb3B1cF8wYTRmNzc0NTg1NDM0MzNmYjhjYWZlODhhMzdiZTViZCA9IEwucG9wdXAoeyJtYXhXaWR0aCI6ICIxMDAlIn0pOwoKICAgICAgICAKICAgICAgICAgICAgdmFyIGh0bWxfOGMyZDM0YTEyODhiNDU5Y2I3YzJmZmE4MjRjOWFmMmMgPSAkKGA8ZGl2IGlkPSJodG1sXzhjMmQzNGExMjg4YjQ1OWNiN2MyZmZhODI0YzlhZjJjIiBzdHlsZT0id2lkdGg6IDEwMC4wJTsgaGVpZ2h0OiAxMDAuMCU7Ij5Eb3dudG93biBUb3JvbnRvPC9kaXY+YClbMF07CiAgICAgICAgICAgIHBvcHVwXzBhNGY3NzQ1ODU0MzQzM2ZiOGNhZmU4OGEzN2JlNWJkLnNldENvbnRlbnQoaHRtbF84YzJkMzRhMTI4OGI0NTljYjdjMmZmYTgyNGM5YWYyYyk7CiAgICAgICAgCgogICAgICAgIGNpcmNsZV9tYXJrZXJfNmZjN2E5N2FmZmNkNGNhYWEwOWNiYzEwOGNiMDlhMjIuYmluZFBvcHVwKHBvcHVwXzBhNGY3NzQ1ODU0MzQzM2ZiOGNhZmU4OGEzN2JlNWJkKQogICAgICAgIDsKCiAgICAgICAgCiAgICAKICAgIAogICAgICAgICAgICB2YXIgY2lyY2xlX21hcmtlcl82MDg0ZDgwMTdlOTc0NzIyYTZhZjJlZDVlY2Y3OGZjZCA9IEwuY2lyY2xlTWFya2VyKAogICAgICAgICAgICAgICAgWzQzLjY0NjQzNTIsIC03OS4zNzQ4NDU5OTk5OTk5OV0sCiAgICAgICAgICAgICAgICB7ImJ1YmJsaW5nTW91c2VFdmVudHMiOiB0cnVlLCAiY29sb3IiOiAiYmxhY2siLCAiZGFzaEFycmF5IjogbnVsbCwgImRhc2hPZmZzZXQiOiBudWxsLCAiZmlsbCI6IHRydWUsICJmaWxsQ29sb3IiOiAiZ3JlZW4iLCAiZmlsbE9wYWNpdHkiOiAwLjcsICJmaWxsUnVsZSI6ICJldmVub2RkIiwgImxpbmVDYXAiOiAicm91bmQiLCAibGluZUpvaW4iOiAicm91bmQiLCAib3BhY2l0eSI6IDEuMCwgInJhZGl1cyI6IDUsICJzdHJva2UiOiB0cnVlLCAid2VpZ2h0IjogM30KICAgICAgICAgICAgKS5hZGRUbyhtYXBfNTBhNTI3ZTE3NmNiNDAyYzgyZGI3N2MzYzFlNDI3MTkpOwogICAgICAgIAogICAgCiAgICAgICAgdmFyIHBvcHVwXzBlOTlhYmZkMGIyOTQ5OWNhM2ZkNmMwYzJmZDgxNDc2ID0gTC5wb3B1cCh7Im1heFdpZHRoIjogIjEwMCUifSk7CgogICAgICAgIAogICAgICAgICAgICB2YXIgaHRtbF9iOTNjOWFhNWY1NzM0M2JhOTcwZDZhMTI0Y2IzZWVhYSA9ICQoYDxkaXYgaWQ9Imh0bWxfYjkzYzlhYTVmNTczNDNiYTk3MGQ2YTEyNGNiM2VlYWEiIHN0eWxlPSJ3aWR0aDogMTAwLjAlOyBoZWlnaHQ6IDEwMC4wJTsiPkRvd250b3duIFRvcm9udG88L2Rpdj5gKVswXTsKICAgICAgICAgICAgcG9wdXBfMGU5OWFiZmQwYjI5NDk5Y2EzZmQ2YzBjMmZkODE0NzYuc2V0Q29udGVudChodG1sX2I5M2M5YWE1ZjU3MzQzYmE5NzBkNmExMjRjYjNlZWFhKTsKICAgICAgICAKCiAgICAgICAgY2lyY2xlX21hcmtlcl82MDg0ZDgwMTdlOTc0NzIyYTZhZjJlZDVlY2Y3OGZjZC5iaW5kUG9wdXAocG9wdXBfMGU5OWFiZmQwYjI5NDk5Y2EzZmQ2YzBjMmZkODE0NzYpCiAgICAgICAgOwoKICAgICAgICAKICAgIAogICAgCiAgICAgICAgICAgIHZhciBjaXJjbGVfbWFya2VyXzlhY2E1YzE0YjEyZDQxOTA5ZGMxNGU4M2RhYjQ4ZjlmID0gTC5jaXJjbGVNYXJrZXIoCiAgICAgICAgICAgICAgICBbNDMuNjQ4NDI5MiwgLTc5LjM4MjI4MDJdLAogICAgICAgICAgICAgICAgeyJidWJibGluZ01vdXNlRXZlbnRzIjogdHJ1ZSwgImNvbG9yIjogImJsYWNrIiwgImRhc2hBcnJheSI6IG51bGwsICJkYXNoT2Zmc2V0IjogbnVsbCwgImZpbGwiOiB0cnVlLCAiZmlsbENvbG9yIjogImdyZWVuIiwgImZpbGxPcGFjaXR5IjogMC43LCAiZmlsbFJ1bGUiOiAiZXZlbm9kZCIsICJsaW5lQ2FwIjogInJvdW5kIiwgImxpbmVKb2luIjogInJvdW5kIiwgIm9wYWNpdHkiOiAxLjAsICJyYWRpdXMiOiA1LCAic3Ryb2tlIjogdHJ1ZSwgIndlaWdodCI6IDN9CiAgICAgICAgICAgICkuYWRkVG8obWFwXzUwYTUyN2UxNzZjYjQwMmM4MmRiNzdjM2MxZTQyNzE5KTsKICAgICAgICAKICAgIAogICAgICAgIHZhciBwb3B1cF9hOGI0NTU1ZDFhZmU0OTE0OWQyMGZlODQwNjIzZjBjMyA9IEwucG9wdXAoeyJtYXhXaWR0aCI6ICIxMDAlIn0pOwoKICAgICAgICAKICAgICAgICAgICAgdmFyIGh0bWxfODIxM2VlZmJhMGMxNGZjYzgyZDQ4NmIwZTlhZTkzOTEgPSAkKGA8ZGl2IGlkPSJodG1sXzgyMTNlZWZiYTBjMTRmY2M4MmQ0ODZiMGU5YWU5MzkxIiBzdHlsZT0id2lkdGg6IDEwMC4wJTsgaGVpZ2h0OiAxMDAuMCU7Ij5Eb3dudG93biBUb3JvbnRvPC9kaXY+YClbMF07CiAgICAgICAgICAgIHBvcHVwX2E4YjQ1NTVkMWFmZTQ5MTQ5ZDIwZmU4NDA2MjNmMGMzLnNldENvbnRlbnQoaHRtbF84MjEzZWVmYmEwYzE0ZmNjODJkNDg2YjBlOWFlOTM5MSk7CiAgICAgICAgCgogICAgICAgIGNpcmNsZV9tYXJrZXJfOWFjYTVjMTRiMTJkNDE5MDlkYzE0ZTgzZGFiNDhmOWYuYmluZFBvcHVwKHBvcHVwX2E4YjQ1NTVkMWFmZTQ5MTQ5ZDIwZmU4NDA2MjNmMGMzKQogICAgICAgIDsKCiAgICAgICAgCiAgICAKICAgIAogICAgICAgICAgICB2YXIgY2lyY2xlX21hcmtlcl9lZWE2NDA1ZjY2M2M0YWViYjJlYzdmMjhkZGE0YWI3YyA9IEwuY2lyY2xlTWFya2VyKAogICAgICAgICAgICAgICAgWzQzLjY2OTU0MiwgLTc5LjQyMjU2MzddLAogICAgICAgICAgICAgICAgeyJidWJibGluZ01vdXNlRXZlbnRzIjogdHJ1ZSwgImNvbG9yIjogImJsYWNrIiwgImRhc2hBcnJheSI6IG51bGwsICJkYXNoT2Zmc2V0IjogbnVsbCwgImZpbGwiOiB0cnVlLCAiZmlsbENvbG9yIjogInJlZCIsICJmaWxsT3BhY2l0eSI6IDAuNywgImZpbGxSdWxlIjogImV2ZW5vZGQiLCAibGluZUNhcCI6ICJyb3VuZCIsICJsaW5lSm9pbiI6ICJyb3VuZCIsICJvcGFjaXR5IjogMS4wLCAicmFkaXVzIjogNSwgInN0cm9rZSI6IHRydWUsICJ3ZWlnaHQiOiAzfQogICAgICAgICAgICApLmFkZFRvKG1hcF81MGE1MjdlMTc2Y2I0MDJjODJkYjc3YzNjMWU0MjcxOSk7CiAgICAgICAgCiAgICAKICAgICAgICB2YXIgcG9wdXBfMDhiMmNlOWJkNDEyNGY2ZWE3YzgwNzJlMDgxNDkyMmMgPSBMLnBvcHVwKHsibWF4V2lkdGgiOiAiMTAwJSJ9KTsKCiAgICAgICAgCiAgICAgICAgICAgIHZhciBodG1sXzcyMWM1MjI4MzdjMTQwZmU5NjY3ODUzYjUxOGFkMzNmID0gJChgPGRpdiBpZD0iaHRtbF83MjFjNTIyODM3YzE0MGZlOTY2Nzg1M2I1MThhZDMzZiIgc3R5bGU9IndpZHRoOiAxMDAuMCU7IGhlaWdodDogMTAwLjAlOyI+RG93bnRvd24gVG9yb250bzwvZGl2PmApWzBdOwogICAgICAgICAgICBwb3B1cF8wOGIyY2U5YmQ0MTI0ZjZlYTdjODA3MmUwODE0OTIyYy5zZXRDb250ZW50KGh0bWxfNzIxYzUyMjgzN2MxNDBmZTk2Njc4NTNiNTE4YWQzM2YpOwogICAgICAgIAoKICAgICAgICBjaXJjbGVfbWFya2VyX2VlYTY0MDVmNjYzYzRhZWJiMmVjN2YyOGRkYTRhYjdjLmJpbmRQb3B1cChwb3B1cF8wOGIyY2U5YmQ0MTI0ZjZlYTdjODA3MmUwODE0OTIyYykKICAgICAgICA7CgogICAgICAgIAogICAgCiAgICAKICAgICAgICAgICAgdmFyIGNpcmNsZV9tYXJrZXJfYmViZTc2OGU2N2NhNGYwZDhiNjgzMmI5ZGFhZjdkNmYgPSBMLmNpcmNsZU1hcmtlcigKICAgICAgICAgICAgICAgIFs0My42NjkwMDUxMDAwMDAwMSwgLTc5LjQ0MjI1OTNdLAogICAgICAgICAgICAgICAgeyJidWJibGluZ01vdXNlRXZlbnRzIjogdHJ1ZSwgImNvbG9yIjogImJsYWNrIiwgImRhc2hBcnJheSI6IG51bGwsICJkYXNoT2Zmc2V0IjogbnVsbCwgImZpbGwiOiB0cnVlLCAiZmlsbENvbG9yIjogInJlZCIsICJmaWxsT3BhY2l0eSI6IDAuNywgImZpbGxSdWxlIjogImV2ZW5vZGQiLCAibGluZUNhcCI6ICJyb3VuZCIsICJsaW5lSm9pbiI6ICJyb3VuZCIsICJvcGFjaXR5IjogMS4wLCAicmFkaXVzIjogNSwgInN0cm9rZSI6IHRydWUsICJ3ZWlnaHQiOiAzfQogICAgICAgICAgICApLmFkZFRvKG1hcF81MGE1MjdlMTc2Y2I0MDJjODJkYjc3YzNjMWU0MjcxOSk7CiAgICAgICAgCiAgICAKICAgICAgICB2YXIgcG9wdXBfM2M4MTM1ZGJhNDljNDgxYmFiYmFjZDZiMTg5MTgwZjYgPSBMLnBvcHVwKHsibWF4V2lkdGgiOiAiMTAwJSJ9KTsKCiAgICAgICAgCiAgICAgICAgICAgIHZhciBodG1sX2U5MmJiNzFiMDQ5ODQ4MDdiMzUxNTgzNmUzMWRiZWExID0gJChgPGRpdiBpZD0iaHRtbF9lOTJiYjcxYjA0OTg0ODA3YjM1MTU4MzZlMzFkYmVhMSIgc3R5bGU9IndpZHRoOiAxMDAuMCU7IGhlaWdodDogMTAwLjAlOyI+V2VzdCBUb3JvbnRvPC9kaXY+YClbMF07CiAgICAgICAgICAgIHBvcHVwXzNjODEzNWRiYTQ5YzQ4MWJhYmJhY2Q2YjE4OTE4MGY2LnNldENvbnRlbnQoaHRtbF9lOTJiYjcxYjA0OTg0ODA3YjM1MTU4MzZlMzFkYmVhMSk7CiAgICAgICAgCgogICAgICAgIGNpcmNsZV9tYXJrZXJfYmViZTc2OGU2N2NhNGYwZDhiNjgzMmI5ZGFhZjdkNmYuYmluZFBvcHVwKHBvcHVwXzNjODEzNWRiYTQ5YzQ4MWJhYmJhY2Q2YjE4OTE4MGY2KQogICAgICAgIDsKCiAgICAgICAgCiAgICAKICAgIAogICAgICAgICAgICB2YXIgY2lyY2xlX21hcmtlcl81ODYxNmYzZmNlNmY0MWI5ODIyMjhhM2QyMjkwMjNmMiA9IEwuY2lyY2xlTWFya2VyKAogICAgICAgICAgICAgICAgWzQzLjY0NzkyNjcwMDAwMDAwNiwgLTc5LjQxOTc0OTddLAogICAgICAgICAgICAgICAgeyJidWJibGluZ01vdXNlRXZlbnRzIjogdHJ1ZSwgImNvbG9yIjogImJsYWNrIiwgImRhc2hBcnJheSI6IG51bGwsICJkYXNoT2Zmc2V0IjogbnVsbCwgImZpbGwiOiB0cnVlLCAiZmlsbENvbG9yIjogInJlZCIsICJmaWxsT3BhY2l0eSI6IDAuNywgImZpbGxSdWxlIjogImV2ZW5vZGQiLCAibGluZUNhcCI6ICJyb3VuZCIsICJsaW5lSm9pbiI6ICJyb3VuZCIsICJvcGFjaXR5IjogMS4wLCAicmFkaXVzIjogNSwgInN0cm9rZSI6IHRydWUsICJ3ZWlnaHQiOiAzfQogICAgICAgICAgICApLmFkZFRvKG1hcF81MGE1MjdlMTc2Y2I0MDJjODJkYjc3YzNjMWU0MjcxOSk7CiAgICAgICAgCiAgICAKICAgICAgICB2YXIgcG9wdXBfZTJkYjE2YzVkY2FjNDE1ZWJjZWI4ZWI3M2YwOWE4N2YgPSBMLnBvcHVwKHsibWF4V2lkdGgiOiAiMTAwJSJ9KTsKCiAgICAgICAgCiAgICAgICAgICAgIHZhciBodG1sX2FlMGI1ZDhiYjg1NjQwOWI5NzkzM2YzMGE4OGI3ODMyID0gJChgPGRpdiBpZD0iaHRtbF9hZTBiNWQ4YmI4NTY0MDliOTc5MzNmMzBhODhiNzgzMiIgc3R5bGU9IndpZHRoOiAxMDAuMCU7IGhlaWdodDogMTAwLjAlOyI+V2VzdCBUb3JvbnRvPC9kaXY+YClbMF07CiAgICAgICAgICAgIHBvcHVwX2UyZGIxNmM1ZGNhYzQxNWViY2ViOGViNzNmMDlhODdmLnNldENvbnRlbnQoaHRtbF9hZTBiNWQ4YmI4NTY0MDliOTc5MzNmMzBhODhiNzgzMik7CiAgICAgICAgCgogICAgICAgIGNpcmNsZV9tYXJrZXJfNTg2MTZmM2ZjZTZmNDFiOTgyMjI4YTNkMjI5MDIzZjIuYmluZFBvcHVwKHBvcHVwX2UyZGIxNmM1ZGNhYzQxNWViY2ViOGViNzNmMDlhODdmKQogICAgICAgIDsKCiAgICAgICAgCiAgICAKICAgIAogICAgICAgICAgICB2YXIgY2lyY2xlX21hcmtlcl84ZmY2YzMyYmY3Mjk0YTM2OGU3YTk4NWNkYTEyZjNhMyA9IEwuY2lyY2xlTWFya2VyKAogICAgICAgICAgICAgICAgWzQzLjYzNjg0NzIsIC03OS40MjgxOTE0MDAwMDAwMl0sCiAgICAgICAgICAgICAgICB7ImJ1YmJsaW5nTW91c2VFdmVudHMiOiB0cnVlLCAiY29sb3IiOiAiYmxhY2siLCAiZGFzaEFycmF5IjogbnVsbCwgImRhc2hPZmZzZXQiOiBudWxsLCAiZmlsbCI6IHRydWUsICJmaWxsQ29sb3IiOiAicmVkIiwgImZpbGxPcGFjaXR5IjogMC43LCAiZmlsbFJ1bGUiOiAiZXZlbm9kZCIsICJsaW5lQ2FwIjogInJvdW5kIiwgImxpbmVKb2luIjogInJvdW5kIiwgIm9wYWNpdHkiOiAxLjAsICJyYWRpdXMiOiA1LCAic3Ryb2tlIjogdHJ1ZSwgIndlaWdodCI6IDN9CiAgICAgICAgICAgICkuYWRkVG8obWFwXzUwYTUyN2UxNzZjYjQwMmM4MmRiNzdjM2MxZTQyNzE5KTsKICAgICAgICAKICAgIAogICAgICAgIHZhciBwb3B1cF8wZTEwMjlhZWE4YzI0Njk5ODFiNDk4YzZlYWExMDlmZSA9IEwucG9wdXAoeyJtYXhXaWR0aCI6ICIxMDAlIn0pOwoKICAgICAgICAKICAgICAgICAgICAgdmFyIGh0bWxfMzc1MjU4MTE4YzUzNDk4MjkxZjYwNzk5ZDUwOTA0M2MgPSAkKGA8ZGl2IGlkPSJodG1sXzM3NTI1ODExOGM1MzQ5ODI5MWY2MDc5OWQ1MDkwNDNjIiBzdHlsZT0id2lkdGg6IDEwMC4wJTsgaGVpZ2h0OiAxMDAuMCU7Ij5XZXN0IFRvcm9udG88L2Rpdj5gKVswXTsKICAgICAgICAgICAgcG9wdXBfMGUxMDI5YWVhOGMyNDY5OTgxYjQ5OGM2ZWFhMTA5ZmUuc2V0Q29udGVudChodG1sXzM3NTI1ODExOGM1MzQ5ODI5MWY2MDc5OWQ1MDkwNDNjKTsKICAgICAgICAKCiAgICAgICAgY2lyY2xlX21hcmtlcl84ZmY2YzMyYmY3Mjk0YTM2OGU3YTk4NWNkYTEyZjNhMy5iaW5kUG9wdXAocG9wdXBfMGUxMDI5YWVhOGMyNDY5OTgxYjQ5OGM2ZWFhMTA5ZmUpCiAgICAgICAgOwoKICAgICAgICAKICAgIAogICAgCiAgICAgICAgICAgIHZhciBjaXJjbGVfbWFya2VyX2MwZTYyYzJjYTdhYjQ3ODJhNWQyOTZkMjg4OTU2NjYwID0gTC5jaXJjbGVNYXJrZXIoCiAgICAgICAgICAgICAgICBbNDMuNjYxNjA4MywgLTc5LjQ2NDc2MzI5OTk5OTk5XSwKICAgICAgICAgICAgICAgIHsiYnViYmxpbmdNb3VzZUV2ZW50cyI6IHRydWUsICJjb2xvciI6ICJibGFjayIsICJkYXNoQXJyYXkiOiBudWxsLCAiZGFzaE9mZnNldCI6IG51bGwsICJmaWxsIjogdHJ1ZSwgImZpbGxDb2xvciI6ICJyZWQiLCAiZmlsbE9wYWNpdHkiOiAwLjcsICJmaWxsUnVsZSI6ICJldmVub2RkIiwgImxpbmVDYXAiOiAicm91bmQiLCAibGluZUpvaW4iOiAicm91bmQiLCAib3BhY2l0eSI6IDEuMCwgInJhZGl1cyI6IDUsICJzdHJva2UiOiB0cnVlLCAid2VpZ2h0IjogM30KICAgICAgICAgICAgKS5hZGRUbyhtYXBfNTBhNTI3ZTE3NmNiNDAyYzgyZGI3N2MzYzFlNDI3MTkpOwogICAgICAgIAogICAgCiAgICAgICAgdmFyIHBvcHVwXzdlMGI2MDRjZmI4MTQwMzE4N2RlMmRhMzEyYjk2MTFkID0gTC5wb3B1cCh7Im1heFdpZHRoIjogIjEwMCUifSk7CgogICAgICAgIAogICAgICAgICAgICB2YXIgaHRtbF9kYjc2OWIxODVhNTU0MTFhOTdmZTg4Njc1MWU0ZTNiNiA9ICQoYDxkaXYgaWQ9Imh0bWxfZGI3NjliMTg1YTU1NDExYTk3ZmU4ODY3NTFlNGUzYjYiIHN0eWxlPSJ3aWR0aDogMTAwLjAlOyBoZWlnaHQ6IDEwMC4wJTsiPldlc3QgVG9yb250bzwvZGl2PmApWzBdOwogICAgICAgICAgICBwb3B1cF83ZTBiNjA0Y2ZiODE0MDMxODdkZTJkYTMxMmI5NjExZC5zZXRDb250ZW50KGh0bWxfZGI3NjliMTg1YTU1NDExYTk3ZmU4ODY3NTFlNGUzYjYpOwogICAgICAgIAoKICAgICAgICBjaXJjbGVfbWFya2VyX2MwZTYyYzJjYTdhYjQ3ODJhNWQyOTZkMjg4OTU2NjYwLmJpbmRQb3B1cChwb3B1cF83ZTBiNjA0Y2ZiODE0MDMxODdkZTJkYTMxMmI5NjExZCkKICAgICAgICA7CgogICAgICAgIAogICAgCiAgICAKICAgICAgICAgICAgdmFyIGNpcmNsZV9tYXJrZXJfYWNiMTBkODg1ZDZjNGFhZmI0NTI4ODYwZmFhOGY5MmYgPSBMLmNpcmNsZU1hcmtlcigKICAgICAgICAgICAgICAgIFs0My42NDg5NTk3LCAtNzkuNDU2MzI1XSwKICAgICAgICAgICAgICAgIHsiYnViYmxpbmdNb3VzZUV2ZW50cyI6IHRydWUsICJjb2xvciI6ICJibGFjayIsICJkYXNoQXJyYXkiOiBudWxsLCAiZGFzaE9mZnNldCI6IG51bGwsICJmaWxsIjogdHJ1ZSwgImZpbGxDb2xvciI6ICJyZWQiLCAiZmlsbE9wYWNpdHkiOiAwLjcsICJmaWxsUnVsZSI6ICJldmVub2RkIiwgImxpbmVDYXAiOiAicm91bmQiLCAibGluZUpvaW4iOiAicm91bmQiLCAib3BhY2l0eSI6IDEuMCwgInJhZGl1cyI6IDUsICJzdHJva2UiOiB0cnVlLCAid2VpZ2h0IjogM30KICAgICAgICAgICAgKS5hZGRUbyhtYXBfNTBhNTI3ZTE3NmNiNDAyYzgyZGI3N2MzYzFlNDI3MTkpOwogICAgICAgIAogICAgCiAgICAgICAgdmFyIHBvcHVwXzJiZWQ5NzQ1NmQzZTRkNGZiYzU4NjE1YzY2M2IyYWIyID0gTC5wb3B1cCh7Im1heFdpZHRoIjogIjEwMCUifSk7CgogICAgICAgIAogICAgICAgICAgICB2YXIgaHRtbF9jM2FiMDhkY2ZkNDQ0ZDUyYTFkYWQxODlhMmU2Y2UwMyA9ICQoYDxkaXYgaWQ9Imh0bWxfYzNhYjA4ZGNmZDQ0NGQ1MmExZGFkMTg5YTJlNmNlMDMiIHN0eWxlPSJ3aWR0aDogMTAwLjAlOyBoZWlnaHQ6IDEwMC4wJTsiPldlc3QgVG9yb250bzwvZGl2PmApWzBdOwogICAgICAgICAgICBwb3B1cF8yYmVkOTc0NTZkM2U0ZDRmYmM1ODYxNWM2NjNiMmFiMi5zZXRDb250ZW50KGh0bWxfYzNhYjA4ZGNmZDQ0NGQ1MmExZGFkMTg5YTJlNmNlMDMpOwogICAgICAgIAoKICAgICAgICBjaXJjbGVfbWFya2VyX2FjYjEwZDg4NWQ2YzRhYWZiNDUyODg2MGZhYThmOTJmLmJpbmRQb3B1cChwb3B1cF8yYmVkOTc0NTZkM2U0ZDRmYmM1ODYxNWM2NjNiMmFiMikKICAgICAgICA7CgogICAgICAgIAogICAgCiAgICAKICAgICAgICAgICAgdmFyIGNpcmNsZV9tYXJrZXJfODQyMzg4YjYzYWI2NGJhNGJjNTllZmNmNDNiZTE1ZTMgPSBMLmNpcmNsZU1hcmtlcigKICAgICAgICAgICAgICAgIFs0My42NTE1NzA2LCAtNzkuNDg0NDQ5OV0sCiAgICAgICAgICAgICAgICB7ImJ1YmJsaW5nTW91c2VFdmVudHMiOiB0cnVlLCAiY29sb3IiOiAiYmxhY2siLCAiZGFzaEFycmF5IjogbnVsbCwgImRhc2hPZmZzZXQiOiBudWxsLCAiZmlsbCI6IHRydWUsICJmaWxsQ29sb3IiOiAicmVkIiwgImZpbGxPcGFjaXR5IjogMC43LCAiZmlsbFJ1bGUiOiAiZXZlbm9kZCIsICJsaW5lQ2FwIjogInJvdW5kIiwgImxpbmVKb2luIjogInJvdW5kIiwgIm9wYWNpdHkiOiAxLjAsICJyYWRpdXMiOiA1LCAic3Ryb2tlIjogdHJ1ZSwgIndlaWdodCI6IDN9CiAgICAgICAgICAgICkuYWRkVG8obWFwXzUwYTUyN2UxNzZjYjQwMmM4MmRiNzdjM2MxZTQyNzE5KTsKICAgICAgICAKICAgIAogICAgICAgIHZhciBwb3B1cF81NTJkOGVlYmI2YjE0MWE4YTEzMGFjYzIxMDhmODliNyA9IEwucG9wdXAoeyJtYXhXaWR0aCI6ICIxMDAlIn0pOwoKICAgICAgICAKICAgICAgICAgICAgdmFyIGh0bWxfMDk5MWYzZDJkYjBjNDExZjk4ZDY5M2FjNGY0YjE2NDMgPSAkKGA8ZGl2IGlkPSJodG1sXzA5OTFmM2QyZGIwYzQxMWY5OGQ2OTNhYzRmNGIxNjQzIiBzdHlsZT0id2lkdGg6IDEwMC4wJTsgaGVpZ2h0OiAxMDAuMCU7Ij5XZXN0IFRvcm9udG88L2Rpdj5gKVswXTsKICAgICAgICAgICAgcG9wdXBfNTUyZDhlZWJiNmIxNDFhOGExMzBhY2MyMTA4Zjg5Yjcuc2V0Q29udGVudChodG1sXzA5OTFmM2QyZGIwYzQxMWY5OGQ2OTNhYzRmNGIxNjQzKTsKICAgICAgICAKCiAgICAgICAgY2lyY2xlX21hcmtlcl84NDIzODhiNjNhYjY0YmE0YmM1OWVmY2Y0M2JlMTVlMy5iaW5kUG9wdXAocG9wdXBfNTUyZDhlZWJiNmIxNDFhOGExMzBhY2MyMTA4Zjg5YjcpCiAgICAgICAgOwoKICAgICAgICAKICAgIAogICAgCiAgICAgICAgICAgIHZhciBjaXJjbGVfbWFya2VyX2I1YjQ4MWFlOTU3MjQxZDRiZTQ5NDM1ZDcwMTQyZDE4ID0gTC5jaXJjbGVNYXJrZXIoCiAgICAgICAgICAgICAgICBbNDMuNjYyMzAxNSwgLTc5LjM4OTQ5MzhdLAogICAgICAgICAgICAgICAgeyJidWJibGluZ01vdXNlRXZlbnRzIjogdHJ1ZSwgImNvbG9yIjogImJsYWNrIiwgImRhc2hBcnJheSI6IG51bGwsICJkYXNoT2Zmc2V0IjogbnVsbCwgImZpbGwiOiB0cnVlLCAiZmlsbENvbG9yIjogImdyZWVuIiwgImZpbGxPcGFjaXR5IjogMC43LCAiZmlsbFJ1bGUiOiAiZXZlbm9kZCIsICJsaW5lQ2FwIjogInJvdW5kIiwgImxpbmVKb2luIjogInJvdW5kIiwgIm9wYWNpdHkiOiAxLjAsICJyYWRpdXMiOiA1LCAic3Ryb2tlIjogdHJ1ZSwgIndlaWdodCI6IDN9CiAgICAgICAgICAgICkuYWRkVG8obWFwXzUwYTUyN2UxNzZjYjQwMmM4MmRiNzdjM2MxZTQyNzE5KTsKICAgICAgICAKICAgIAogICAgICAgIHZhciBwb3B1cF9kZjE2YzU4NmE5MmU0MWU0OWMxODNjYjE5MzQ5YWIwNCA9IEwucG9wdXAoeyJtYXhXaWR0aCI6ICIxMDAlIn0pOwoKICAgICAgICAKICAgICAgICAgICAgdmFyIGh0bWxfYzg4NDc0NjcwOGU0NGYwZWFhNGE0N2FkOGE0NmY5NmQgPSAkKGA8ZGl2IGlkPSJodG1sX2M4ODQ3NDY3MDhlNDRmMGVhYTRhNDdhZDhhNDZmOTZkIiBzdHlsZT0id2lkdGg6IDEwMC4wJTsgaGVpZ2h0OiAxMDAuMCU7Ij5Eb3dudG93biBUb3JvbnRvPC9kaXY+YClbMF07CiAgICAgICAgICAgIHBvcHVwX2RmMTZjNTg2YTkyZTQxZTQ5YzE4M2NiMTkzNDlhYjA0LnNldENvbnRlbnQoaHRtbF9jODg0NzQ2NzA4ZTQ0ZjBlYWE0YTQ3YWQ4YTQ2Zjk2ZCk7CiAgICAgICAgCgogICAgICAgIGNpcmNsZV9tYXJrZXJfYjViNDgxYWU5NTcyNDFkNGJlNDk0MzVkNzAxNDJkMTguYmluZFBvcHVwKHBvcHVwX2RmMTZjNTg2YTkyZTQxZTQ5YzE4M2NiMTkzNDlhYjA0KQogICAgICAgIDsKCiAgICAgICAgCiAgICAKICAgIAogICAgICAgICAgICB2YXIgY2lyY2xlX21hcmtlcl8yNTk2MTJhMzU4NWU0NTU1YWIxODk3ZmI4MjM3YjQ2NyA9IEwuY2lyY2xlTWFya2VyKAogICAgICAgICAgICAgICAgWzQzLjY2Mjc0MzksIC03OS4zMjE1NThdLAogICAgICAgICAgICAgICAgeyJidWJibGluZ01vdXNlRXZlbnRzIjogdHJ1ZSwgImNvbG9yIjogImJsYWNrIiwgImRhc2hBcnJheSI6IG51bGwsICJkYXNoT2Zmc2V0IjogbnVsbCwgImZpbGwiOiB0cnVlLCAiZmlsbENvbG9yIjogInllbGxvdyIsICJmaWxsT3BhY2l0eSI6IDAuNywgImZpbGxSdWxlIjogImV2ZW5vZGQiLCAibGluZUNhcCI6ICJyb3VuZCIsICJsaW5lSm9pbiI6ICJyb3VuZCIsICJvcGFjaXR5IjogMS4wLCAicmFkaXVzIjogNSwgInN0cm9rZSI6IHRydWUsICJ3ZWlnaHQiOiAzfQogICAgICAgICAgICApLmFkZFRvKG1hcF81MGE1MjdlMTc2Y2I0MDJjODJkYjc3YzNjMWU0MjcxOSk7CiAgICAgICAgCiAgICAKICAgICAgICB2YXIgcG9wdXBfNzZjZGMwNmU5OTFjNDBhMDllZTA3YmQ2MTY5OWE2ZjIgPSBMLnBvcHVwKHsibWF4V2lkdGgiOiAiMTAwJSJ9KTsKCiAgICAgICAgCiAgICAgICAgICAgIHZhciBodG1sXzk1M2ZkNDBhNzg3YjRkMDlhZTkyN2JmY2IzMGRjYmUwID0gJChgPGRpdiBpZD0iaHRtbF85NTNmZDQwYTc4N2I0ZDA5YWU5MjdiZmNiMzBkY2JlMCIgc3R5bGU9IndpZHRoOiAxMDAuMCU7IGhlaWdodDogMTAwLjAlOyI+RWFzdCBUb3JvbnRvPC9kaXY+YClbMF07CiAgICAgICAgICAgIHBvcHVwXzc2Y2RjMDZlOTkxYzQwYTA5ZWUwN2JkNjE2OTlhNmYyLnNldENvbnRlbnQoaHRtbF85NTNmZDQwYTc4N2I0ZDA5YWU5MjdiZmNiMzBkY2JlMCk7CiAgICAgICAgCgogICAgICAgIGNpcmNsZV9tYXJrZXJfMjU5NjEyYTM1ODVlNDU1NWFiMTg5N2ZiODIzN2I0NjcuYmluZFBvcHVwKHBvcHVwXzc2Y2RjMDZlOTkxYzQwYTA5ZWUwN2JkNjE2OTlhNmYyKQogICAgICAgIDsKCiAgICAgICAgCiAgICAKPC9zY3JpcHQ+\" style=\"position:absolute;width:100%;height:100%;left:0;top:0;border:none !important;\" allowfullscreen webkitallowfullscreen mozallowfullscreen></iframe></div></div>"
      ],
      "text/plain": [
       "<folium.folium.Map at 0x244b7dce588>"
      ]
     },
     "execution_count": 21,
     "metadata": {},
     "output_type": "execute_result"
    }
   ],
   "source": [
    "toronto_map = folium.Map(location=[latitude, longitude], zoom_start=12)\n",
    "\n",
    "X = df_toronto['Latitude']\n",
    "Y = df_toronto['Longitude']\n",
    "Z = np.stack((X, Y), axis=1)\n",
    "\n",
    "kmeans = KMeans(n_clusters=4, random_state=0).fit(Z)\n",
    "\n",
    "clusters = kmeans.labels_\n",
    "colors = ['red', 'green', 'blue', 'yellow']\n",
    "df_toronto['Cluster'] = clusters\n",
    "\n",
    "for latitude, longitude, borough, cluster in zip(df_toronto['Latitude'], \n",
    "                                                 df_toronto['Longitude'], \n",
    "                                                 df_toronto['Borough'], \n",
    "                                                 df_toronto['Cluster']):\n",
    "    label = folium.Popup(borough, parse_html=True)\n",
    "    folium.CircleMarker(\n",
    "        [latitude, longitude],\n",
    "        radius=5,\n",
    "        popup=label,\n",
    "        color='black',\n",
    "        fill=True,\n",
    "        fill_color=colors[cluster],\n",
    "        fill_opacity=0.7).add_to(toronto_map)  \n",
    "\n",
    "toronto_map"
   ]
  },
  {
   "cell_type": "code",
   "execution_count": null,
   "metadata": {},
   "outputs": [],
   "source": []
  }
 ],
 "metadata": {
  "kernelspec": {
   "display_name": "Python 3",
   "language": "python",
   "name": "python3"
  },
  "language_info": {
   "codemirror_mode": {
    "name": "ipython",
    "version": 3
   },
   "file_extension": ".py",
   "mimetype": "text/x-python",
   "name": "python",
   "nbconvert_exporter": "python",
   "pygments_lexer": "ipython3",
   "version": "3.7.1"
  }
 },
 "nbformat": 4,
 "nbformat_minor": 2
}
